{
  "cells": [
    {
      "cell_type": "markdown",
      "metadata": {
        "toc": true,
        "id": "7mkBI6yY1OyF"
      },
      "source": [
        "<h1>Table of Contents<span class=\"tocSkip\"></span></h1>\n",
        "<div class=\"toc\"><ul class=\"toc-item\"></ul></div>"
      ]
    },
    {
      "cell_type": "markdown",
      "source": [
        "# 安裝相關套件"
      ],
      "metadata": {
        "id": "K9LcINzIi2PY"
      }
    },
    {
      "cell_type": "code",
      "source": [
        "# 安裝 行情 API sdk\n",
        "!pip install fugle-realtime"
      ],
      "metadata": {
        "colab": {
          "base_uri": "https://localhost:8080/"
        },
        "id": "a3m2tpct1js8",
        "outputId": "7013248e-c1a3-484a-a000-b0d79d5a7830"
      },
      "execution_count": 1,
      "outputs": [
        {
          "output_type": "stream",
          "name": "stdout",
          "text": [
            "Collecting fugle-realtime\n",
            "  Downloading fugle_realtime-0.3.1-py3-none-any.whl (6.1 kB)\n",
            "Collecting requests<3.0.0,>=2.26.0\n",
            "  Downloading requests-2.27.1-py2.py3-none-any.whl (63 kB)\n",
            "\u001b[K     |████████████████████████████████| 63 kB 1.4 MB/s \n",
            "\u001b[?25hCollecting websocket-client<2.0.0,>=1.2.1\n",
            "  Downloading websocket_client-1.3.1-py3-none-any.whl (54 kB)\n",
            "\u001b[K     |████████████████████████████████| 54 kB 2.3 MB/s \n",
            "\u001b[?25hRequirement already satisfied: certifi>=2017.4.17 in /usr/local/lib/python3.7/dist-packages (from requests<3.0.0,>=2.26.0->fugle-realtime) (2021.10.8)\n",
            "Requirement already satisfied: idna<4,>=2.5 in /usr/local/lib/python3.7/dist-packages (from requests<3.0.0,>=2.26.0->fugle-realtime) (2.10)\n",
            "Requirement already satisfied: charset-normalizer~=2.0.0 in /usr/local/lib/python3.7/dist-packages (from requests<3.0.0,>=2.26.0->fugle-realtime) (2.0.12)\n",
            "Requirement already satisfied: urllib3<1.27,>=1.21.1 in /usr/local/lib/python3.7/dist-packages (from requests<3.0.0,>=2.26.0->fugle-realtime) (1.24.3)\n",
            "Installing collected packages: websocket-client, requests, fugle-realtime\n",
            "  Attempting uninstall: requests\n",
            "    Found existing installation: requests 2.23.0\n",
            "    Uninstalling requests-2.23.0:\n",
            "      Successfully uninstalled requests-2.23.0\n",
            "\u001b[31mERROR: pip's dependency resolver does not currently take into account all the packages that are installed. This behaviour is the source of the following dependency conflicts.\n",
            "google-colab 1.0.0 requires requests~=2.23.0, but you have requests 2.27.1 which is incompatible.\n",
            "datascience 0.10.6 requires folium==0.2.1, but you have folium 0.8.3 which is incompatible.\u001b[0m\n",
            "Successfully installed fugle-realtime-0.3.1 requests-2.27.1 websocket-client-1.3.1\n"
          ]
        }
      ]
    },
    {
      "cell_type": "code",
      "source": [
        "# 取得 fugle http API \n",
        "from fugle_realtime import HttpClient\n",
        "\n",
        "import datetime\n",
        "import pandas as pd\n",
        "import requests\n",
        "import time\n",
        "import threading"
      ],
      "metadata": {
        "id": "_AbMnXtz16Tt"
      },
      "execution_count": 2,
      "outputs": []
    },
    {
      "cell_type": "markdown",
      "source": [
        "# define notify function"
      ],
      "metadata": {
        "id": "ngcK90IzjOVb"
      }
    },
    {
      "cell_type": "code",
      "execution_count": 45,
      "metadata": {
        "ExecuteTime": {
          "end_time": "2022-03-24T02:40:51.684597Z",
          "start_time": "2022-03-24T02:40:51.675521Z"
        },
        "id": "Vl8Sn-Vf1OyN"
      },
      "outputs": [],
      "source": [
        "class notify_setting():\n",
        "    \n",
        "    def __init__(self, api_token, line_token):\n",
        "        \n",
        "        self.api_token = api_token\n",
        "        self.line_token = line_token\n",
        "\n",
        "    def lineNotifyMessage(self, msg):\n",
        "    \n",
        "        headers = {\n",
        "           \"Authorization\": \"Bearer \" + self.line_token, \n",
        "           \"Content-Type\" : \"application/x-www-form-urlencoded\"\n",
        "       }\n",
        "\n",
        "        payload = {'message': msg}\n",
        "        r = requests.post(\"https://notify-api.line.me/api/notify\", headers = headers, params = payload)\n",
        "        return r.status_code\n",
        "        \n",
        "    def price_info(self, symbol_id):\n",
        "        \n",
        "        api_client = HttpClient(api_token=self.api_token)\n",
        "        quote_data = api_client.intraday.quote(symbolId = symbol_id)['data']['quote']\n",
        "        \n",
        "        open_price = quote_data['priceOpen']['price']\n",
        "        trade_price = quote_data['trade']['price']\n",
        "        change_rate = quote_data['changePercent']\n",
        "        \n",
        "        url = f\"https://www.fugle.tw/ai/{symbol_id}\"\n",
        "        \n",
        "        self.open_price = open_price\n",
        "        self.trade_price = trade_price\n",
        "        self.change_rate = change_rate\n",
        "        self.url = url\n",
        "        \n",
        "        \n",
        "    def price_change_strategy(self, symbol_id, up_rate, down_rate):\n",
        "        \n",
        "        while True:\n",
        "            \n",
        "            self.price_info(symbol_id)\n",
        "            \n",
        "            if self.change_rate >= up_rate:\n",
        "                \n",
        "                self.lineNotifyMessage(f\"\\n\\n OH！\\n {symbol_id} 現在價格 {self.trade_price} 元 \\n 漲跌幅 {self.change_rate} % \\n 漲幅已超過 {str(up_rate)} % \\n {self.url}\")\n",
        "                print('已送出提醒！')\n",
        "                break                \n",
        "                \n",
        "            elif self.change_rate <= down_rate:\n",
        "                \n",
        "                self.lineNotifyMessage(f\"\\n\\n OH！\\n {symbol_id} 現在價格 {self.trade_price} 元 \\n 漲跌幅 {self.change_rate} % \\n 跌幅已超過 {str(-down_rate)} % \\n {self.url}\")\n",
        "                print('已送出提醒！')\n",
        "                break                \n",
        "                \n",
        "            else:\n",
        "                print('Nothing')\n",
        "                time.sleep(3)\n",
        "    \n",
        "    def price_strategy(self, symbol_id ,up_price, down_price):\n",
        "        \n",
        "        while True:\n",
        "            \n",
        "            self.price_info(symbol_id)\n",
        "            \n",
        "            if self.trade_price >= up_price:\n",
        "                \n",
        "                self.lineNotifyMessage(f\"\\n\\n OH！\\n {symbol_id} 現在價格 {self.trade_price} 元 \\n 漲跌幅 {self.change_rate} % \\n 已超過目標價 {str(up_price)} 元 \\n {self.url}\")\n",
        "                print('已送出提醒！')\n",
        "                break\n",
        "                \n",
        "            elif self.trade_price <= down_price:\n",
        "               \n",
        "                self.lineNotifyMessage(f\"\\n\\n OH！\\n {symbol_id} 現在價格 {self.trade_price} 元 \\n 漲跌幅 {self.change_rate} % \\n 已低於目標價 {str(down_price)} 元 \\n {self.url}\")\n",
        "                print('已送出提醒！')\n",
        "                break\n",
        "                \n",
        "            else:\n",
        "                print('nothing')\n",
        "                time.sleep(3)"
      ]
    },
    {
      "cell_type": "code",
      "source": [
        "# Set Your Fugle API Token from https://developer.fugle.tw/\n",
        "api_token = 'YOUR_API_TOKEN'\n",
        "\n",
        "# Set Your line Token from https://notify-bot.line.me/my/\n",
        "line_token = 'YOUR_LINE_TOKEN'\n"
      ],
      "metadata": {
        "id": "80gj98jZU2_8"
      },
      "execution_count": 46,
      "outputs": []
    },
    {
      "cell_type": "markdown",
      "source": [
        "# 參數設定"
      ],
      "metadata": {
        "id": "9mqEu4U1ef3w"
      }
    },
    {
      "cell_type": "code",
      "source": [
        "symbol_id = '2314'\n",
        "\n",
        "# 目標價上界訂定\n",
        "up_price = 75\n",
        "\n",
        "# 目標價下界訂定\n",
        "down_price = 70\n",
        "\n",
        "# 漲跌幅上界訂定\n",
        "up_changerate = 8\n",
        "\n",
        "# 漲跌幅下界訂定\n",
        "down_changerate = -1"
      ],
      "metadata": {
        "id": "Yuh5Nr-9a4wm"
      },
      "execution_count": 52,
      "outputs": []
    },
    {
      "cell_type": "markdown",
      "source": [
        "# 執行策略"
      ],
      "metadata": {
        "id": "DzDEd2dZemgs"
      }
    },
    {
      "cell_type": "code",
      "execution_count": 53,
      "metadata": {
        "ExecuteTime": {
          "end_time": "2022-03-24T02:41:31.511540Z",
          "start_time": "2022-03-24T02:41:31.507409Z"
        },
        "id": "5mWzWTKr1OyO"
      },
      "outputs": [],
      "source": [
        "line = notify_setting(api_token=api_token,\n",
        "                      line_token=line_token)"
      ]
    },
    {
      "cell_type": "code",
      "execution_count": 51,
      "metadata": {
        "ExecuteTime": {
          "end_time": "2022-03-24T02:41:52.158345Z",
          "start_time": "2022-03-24T02:41:52.153932Z"
        },
        "id": "O9vZNzG31OyP"
      },
      "outputs": [],
      "source": [
        "# 執行策略一：目標價提醒\n",
        "\n",
        "strategy_1 = threading.Thread(target=line.price_strategy, args=[symbol_id, up_price, down_price])\n",
        "strategy_1.start()"
      ]
    },
    {
      "cell_type": "code",
      "execution_count": 50,
      "metadata": {
        "ExecuteTime": {
          "end_time": "2022-03-24T02:42:25.397334Z",
          "start_time": "2022-03-24T02:42:25.394751Z"
        },
        "id": "boa-3NoS1OyR"
      },
      "outputs": [],
      "source": [
        "# 執行策略二：漲跌幅提醒\n",
        "\n",
        "strategy_2 = threading.Thread(target=line.price_change_strategy, args=[symbol_id, up_changerate, down_changerate])\n",
        "strategy_2.start()"
      ]
    },
    {
      "cell_type": "code",
      "source": [
        ""
      ],
      "metadata": {
        "id": "AvVmv459jnX7"
      },
      "execution_count": null,
      "outputs": []
    }
  ],
  "metadata": {
    "kernelspec": {
      "display_name": "Python 3",
      "language": "python",
      "name": "python3"
    },
    "language_info": {
      "codemirror_mode": {
        "name": "ipython",
        "version": 3
      },
      "file_extension": ".py",
      "mimetype": "text/x-python",
      "name": "python",
      "nbconvert_exporter": "python",
      "pygments_lexer": "ipython3",
      "version": "3.8.3"
    },
    "toc": {
      "base_numbering": 1,
      "nav_menu": {},
      "number_sections": true,
      "sideBar": true,
      "skip_h1_title": false,
      "title_cell": "Table of Contents",
      "title_sidebar": "Contents",
      "toc_cell": true,
      "toc_position": {},
      "toc_section_display": true,
      "toc_window_display": false
    },
    "colab": {
      "name": "fugle_realtime_Linenotify_demo.ipynb",
      "provenance": []
    }
  },
  "nbformat": 4,
  "nbformat_minor": 0
}

{
  "nbformat": 4,
  "nbformat_minor": 0,
  "metadata": {
    "colab": {
      "name": "touchingVolume_demo.ipynb",
      "provenance": [],
      "collapsed_sections": [
        "ypbMuOUHpYLT"
      ]
    },
    "kernelspec": {
      "name": "python3",
      "display_name": "Python 3"
    },
    "language_info": {
      "name": "python"
    }
  },
  "cells": [
    {
      "cell_type": "markdown",
      "source": [
        "# 安裝 fugle-trade 套件"
      ],
      "metadata": {
        "id": "MlOik0dEop1i"
      }
    },
    {
      "cell_type": "code",
      "execution_count": 5,
      "metadata": {
        "colab": {
          "base_uri": "https://localhost:8080/"
        },
        "id": "gLzupNpZobdo",
        "outputId": "c0316e37-1513-4826-bc51-1c4a0c4960f1"
      },
      "outputs": [
        {
          "output_type": "stream",
          "name": "stdout",
          "text": [
            "Collecting fugle-trade==0.2.2\n",
            "  Downloading fugle_trade-0.2.2-py3-none-any.whl (6.4 kB)\n",
            "Collecting keyrings.cryptfile==1.3.8\n",
            "  Downloading keyrings.cryptfile-1.3.8.tar.gz (18 kB)\n",
            "Collecting keyring==23.5.0\n",
            "  Downloading keyring-23.5.0-py3-none-any.whl (33 kB)\n",
            "Collecting websocket-client==1.2.1\n",
            "  Downloading websocket_client-1.2.1-py2.py3-none-any.whl (52 kB)\n",
            "\u001b[K     |████████████████████████████████| 52 kB 1.5 MB/s \n",
            "\u001b[?25hCollecting fugle-trade-core==0.2.3\n",
            "  Downloading fugle_trade_core-0.2.3-cp37-cp37m-manylinux_2_12_x86_64.manylinux2010_x86_64.whl (4.0 MB)\n",
            "\u001b[K     |████████████████████████████████| 4.0 MB 9.5 MB/s \n",
            "\u001b[?25hRequirement already satisfied: importlib-metadata>=3.6 in /usr/local/lib/python3.7/dist-packages (from keyring==23.5.0->fugle-trade==0.2.2) (4.11.3)\n",
            "Collecting jeepney>=0.4.2\n",
            "  Downloading jeepney-0.7.1-py3-none-any.whl (54 kB)\n",
            "\u001b[K     |████████████████████████████████| 54 kB 2.9 MB/s \n",
            "\u001b[?25hCollecting SecretStorage>=3.2\n",
            "  Downloading SecretStorage-3.3.1-py3-none-any.whl (15 kB)\n",
            "Requirement already satisfied: argon2_cffi in /usr/local/lib/python3.7/dist-packages (from keyrings.cryptfile==1.3.8->fugle-trade==0.2.2) (21.3.0)\n",
            "Collecting pycryptodome\n",
            "  Downloading pycryptodome-3.14.1-cp35-abi3-manylinux2010_x86_64.whl (2.0 MB)\n",
            "\u001b[K     |████████████████████████████████| 2.0 MB 44.2 MB/s \n",
            "\u001b[?25hRequirement already satisfied: typing-extensions>=3.6.4 in /usr/local/lib/python3.7/dist-packages (from importlib-metadata>=3.6->keyring==23.5.0->fugle-trade==0.2.2) (3.10.0.2)\n",
            "Requirement already satisfied: zipp>=0.5 in /usr/local/lib/python3.7/dist-packages (from importlib-metadata>=3.6->keyring==23.5.0->fugle-trade==0.2.2) (3.7.0)\n",
            "Collecting cryptography>=2.0\n",
            "  Downloading cryptography-36.0.2-cp36-abi3-manylinux_2_24_x86_64.whl (3.6 MB)\n",
            "\u001b[K     |████████████████████████████████| 3.6 MB 28.8 MB/s \n",
            "\u001b[?25hRequirement already satisfied: cffi>=1.12 in /usr/local/lib/python3.7/dist-packages (from cryptography>=2.0->SecretStorage>=3.2->keyring==23.5.0->fugle-trade==0.2.2) (1.15.0)\n",
            "Requirement already satisfied: pycparser in /usr/local/lib/python3.7/dist-packages (from cffi>=1.12->cryptography>=2.0->SecretStorage>=3.2->keyring==23.5.0->fugle-trade==0.2.2) (2.21)\n",
            "Requirement already satisfied: argon2-cffi-bindings in /usr/local/lib/python3.7/dist-packages (from argon2_cffi->keyrings.cryptfile==1.3.8->fugle-trade==0.2.2) (21.2.0)\n",
            "Building wheels for collected packages: keyrings.cryptfile\n",
            "  Building wheel for keyrings.cryptfile (setup.py) ... \u001b[?25l\u001b[?25hdone\n",
            "  Created wheel for keyrings.cryptfile: filename=keyrings.cryptfile-1.3.8-py2.py3-none-any.whl size=17837 sha256=6eb9447f8c810681841d6606e2d298d52df8deffb92074890e3739dc3f46aaea\n",
            "  Stored in directory: /root/.cache/pip/wheels/4d/27/4d/c5d8637dc5fd0fac41b838ca49f0bbbde7b6cf47b8fa4339da\n",
            "Successfully built keyrings.cryptfile\n",
            "Installing collected packages: jeepney, cryptography, SecretStorage, pycryptodome, keyring, websocket-client, keyrings.cryptfile, fugle-trade-core, fugle-trade\n",
            "Successfully installed SecretStorage-3.3.1 cryptography-36.0.2 fugle-trade-0.2.2 fugle-trade-core-0.2.3 jeepney-0.7.1 keyring-23.5.0 keyrings.cryptfile-1.3.8 pycryptodome-3.14.1 websocket-client-1.2.1\n"
          ]
        }
      ],
      "source": [
        "# pip install 需要的套件\n",
        "!pip install fugle-trade==0.2.2"
      ]
    },
    {
      "cell_type": "code",
      "source": [
        "# 安裝富果交易 API sdk\n",
        "from configparser import ConfigParser\n",
        "from fugle_trade.sdk import SDK\n",
        "\n",
        "from fugle_trade.order import OrderObject\n",
        "from fugle_trade.constant import (APCode, Trade, PriceFlag, BSFlag, Action)"
      ],
      "metadata": {
        "id": "2Ly7N8ZvpDbB"
      },
      "execution_count": 6,
      "outputs": []
    },
    {
      "cell_type": "markdown",
      "source": [
        "# 模擬環境測試"
      ],
      "metadata": {
        "id": "ypbMuOUHpYLT"
      }
    },
    {
      "cell_type": "markdown",
      "source": [
        "您在首次使用交易 API 取得正式環境的使用權限前，您會需要在模擬環境至少送出一筆委託"
      ],
      "metadata": {
        "id": "BI2v7bsiDt-1"
      }
    },
    {
      "cell_type": "code",
      "source": [
        "## 取得 new 模擬環境設定檔並登入\n",
        "\n",
        "config = ConfigParser()\n",
        "\n",
        "config.read('./config.simulation.ini')\n",
        "\n",
        "sdk = SDK(config)\n",
        "\n",
        "sdk.login()"
      ],
      "metadata": {
        "id": "MafdTQxiiy4z",
        "colab": {
          "base_uri": "https://localhost:8080/"
        },
        "outputId": "d68ab3a4-b0e2-4994-ef6c-4e9d145d16b5"
      },
      "execution_count": null,
      "outputs": [
        {
          "name": "stdout",
          "output_type": "stream",
          "text": [
            "Enter esun account password:\n",
            "··········\n",
            "Please set a password for your new keyring: ··········\n",
            "Please confirm the password: ··········\n",
            "Enter cert password:\n",
            "··········\n"
          ]
        }
      ]
    },
    {
      "cell_type": "code",
      "source": [
        "## 模擬金鑰下單測試\n",
        "order = OrderObject(\n",
        "    buy_sell = Action.Buy,\n",
        "    price = 27.0,\n",
        "    stock_no = \"2884\",\n",
        "    quantity = 2,\n",
        ")\n",
        "\n",
        "sdk.place_order(order)\n",
        "\n",
        "print(\"Your order has been placed successfully.\")"
      ],
      "metadata": {
        "id": "q7lpSUpgprMH",
        "outputId": "8c8c2777-9cb1-4f76-c78f-f797ae74cb9e",
        "colab": {
          "base_uri": "https://localhost:8080/"
        }
      },
      "execution_count": null,
      "outputs": [
        {
          "output_type": "stream",
          "name": "stdout",
          "text": [
            "Your order has been placed successfully.\n"
          ]
        }
      ]
    },
    {
      "cell_type": "code",
      "source": [
        "## 查看委託回報\n",
        "sdk.get_order_results()"
      ],
      "metadata": {
        "id": "J-CsCZtRFrvB",
        "outputId": "843f56f4-1bac-4c5c-d1a4-7c62d5975ac4",
        "colab": {
          "base_uri": "https://localhost:8080/"
        }
      },
      "execution_count": null,
      "outputs": [
        {
          "output_type": "execute_result",
          "data": {
            "text/plain": [
              "[{'apcode': '1',\n",
              "  'avgPrice': '0',\n",
              "  'bsFlag': 'R',\n",
              "  'buysell': 'B',\n",
              "  'celable': '1',\n",
              "  'celqty': 0,\n",
              "  'celqty_share': 0,\n",
              "  'chgdate': '20220328',\n",
              "  'chgtime': '173420921',\n",
              "  'errcode': '00000000',\n",
              "  'errmsg': '',\n",
              "  'market': 'T',\n",
              "  'matqty': 0,\n",
              "  'matqty_share': 0,\n",
              "  'odprice': '27.0',\n",
              "  'orddate': '20220328',\n",
              "  'ordno': '',\n",
              "  'ordstatus': '1',\n",
              "  'ordtime': '173420921',\n",
              "  'orgqty': 2,\n",
              "  'orgqty_share': 2000,\n",
              "  'preordno': 'P0E0005E',\n",
              "  'priceflag': '0',\n",
              "  'stockno': '2884',\n",
              "  'syscode': 'FA',\n",
              "  'trade': '0',\n",
              "  'workdate': '20220329'}]"
            ]
          },
          "metadata": {},
          "execution_count": 6
        }
      ]
    },
    {
      "cell_type": "code",
      "source": [
        "## 更改密碼\n",
        "# sdk.reset_password()"
      ],
      "metadata": {
        "id": "QsciuPDtqDxG"
      },
      "execution_count": null,
      "outputs": []
    },
    {
      "cell_type": "markdown",
      "source": [
        "# 正式環境"
      ],
      "metadata": {
        "id": "S2GLVe0OqICs"
      }
    },
    {
      "cell_type": "markdown",
      "source": [
        "在 colab 環境因安全性考量，會需要增加 keyring 來設置密碼，這邊的第一個密碼是證券登入密碼，第四個則是憑證密碼，中間兩個則是相同的 keyring 密碼"
      ],
      "metadata": {
        "id": "wHwSkQp5EqWp"
      }
    },
    {
      "cell_type": "code",
      "source": [
        "# 取得正式環境設定檔並登入\n",
        "\n",
        "config = ConfigParser()\n",
        "\n",
        "config.read('./config.ini')\n",
        "\n",
        "sdk = SDK(config)\n",
        "\n",
        "sdk.login()"
      ],
      "metadata": {
        "id": "eNehccxakozL",
        "colab": {
          "base_uri": "https://localhost:8080/"
        },
        "outputId": "51bb5d61-642f-429f-c578-3f4da606b9a2"
      },
      "execution_count": 8,
      "outputs": [
        {
          "name": "stdout",
          "output_type": "stream",
          "text": [
            "Enter esun account password:\n",
            "··········\n",
            "Please set a password for your new keyring: ··········\n",
            "Please confirm the password: ··········\n",
            "Enter cert password:\n",
            "··········\n"
          ]
        }
      ]
    },
    {
      "cell_type": "markdown",
      "source": [
        "## 下委託"
      ],
      "metadata": {
        "id": "UIzloRhKoOYM"
      }
    },
    {
      "cell_type": "code",
      "source": [
        "# 下委託單\n",
        "order = OrderObject(\n",
        "    ap_code = APCode.Common,# 盤別\n",
        "    buy_sell = Action.Buy,\n",
        "    price_flag= PriceFlag.LimitDown, # 下跌停價買進\n",
        "    price = None,\n",
        "    stock_no = str(2884),\n",
        "    quantity = 10,\n",
        ")\n",
        "\n",
        "sdk.place_order(order)"
      ],
      "metadata": {
        "colab": {
          "base_uri": "https://localhost:8080/"
        },
        "id": "e68u4x5lI0sJ",
        "outputId": "94fa34b7-0223-4d28-b40a-38e21ee84b2f"
      },
      "execution_count": 9,
      "outputs": [
        {
          "output_type": "execute_result",
          "data": {
            "text/plain": [
              "{'ord_date': '20220331',\n",
              " 'ord_no': 'P0C8N5IW',\n",
              " 'ord_time': '174534847',\n",
              " 'ord_type': '1',\n",
              " 'ret_code': '000000',\n",
              " 'ret_msg': '',\n",
              " 'work_date': '20220401'}"
            ]
          },
          "metadata": {},
          "execution_count": 9
        }
      ]
    },
    {
      "cell_type": "code",
      "source": [
        "# 委託回報\n",
        "orderResult = sdk.get_order_results()\n",
        "\n",
        "# 查看委託回報狀況\n",
        "import pandas as pd\n",
        "pd.DataFrame(orderResult)"
      ],
      "metadata": {
        "id": "UFkUn3Uqq8wn",
        "colab": {
          "base_uri": "https://localhost:8080/",
          "height": 237
        },
        "outputId": "19d7852c-f6e1-4c62-963c-4df51e7a22d6"
      },
      "execution_count": 10,
      "outputs": [
        {
          "output_type": "execute_result",
          "data": {
            "text/plain": [
              "  work_date  ord_date   ord_time ord_status ord_no pre_ord_no stock_no  \\\n",
              "0  20220401  20220331  174534847          1          P0C8N5IW     2884   \n",
              "1  20220401  20220331  173202813          1          P0A8EB4K     2884   \n",
              "2  20220331  20220331  083017724          2  60105   P0A8D83O     2884   \n",
              "\n",
              "  buy_sell ap_code price_flag  ... mat_qty cel_qty  celable  err_code  \\\n",
              "0        B       1          2  ...       0       0        1  00000000   \n",
              "1        B       1          2  ...       0       2        2  00000000   \n",
              "2        B       1          2  ...       0      10        2  00000000   \n",
              "\n",
              "   err_msg avg_price bs_flag org_qty_share mat_qty_share cel_qty_share  \n",
              "0                  0       R         10000             0             0  \n",
              "1                  0       R          2000             0          2000  \n",
              "2                0.0       R         10000             0         10000  \n",
              "\n",
              "[3 rows x 23 columns]"
            ],
            "text/html": [
              "\n",
              "  <div id=\"df-e86550db-4220-4717-befd-4e2ac3d7fa0c\">\n",
              "    <div class=\"colab-df-container\">\n",
              "      <div>\n",
              "<style scoped>\n",
              "    .dataframe tbody tr th:only-of-type {\n",
              "        vertical-align: middle;\n",
              "    }\n",
              "\n",
              "    .dataframe tbody tr th {\n",
              "        vertical-align: top;\n",
              "    }\n",
              "\n",
              "    .dataframe thead th {\n",
              "        text-align: right;\n",
              "    }\n",
              "</style>\n",
              "<table border=\"1\" class=\"dataframe\">\n",
              "  <thead>\n",
              "    <tr style=\"text-align: right;\">\n",
              "      <th></th>\n",
              "      <th>work_date</th>\n",
              "      <th>ord_date</th>\n",
              "      <th>ord_time</th>\n",
              "      <th>ord_status</th>\n",
              "      <th>ord_no</th>\n",
              "      <th>pre_ord_no</th>\n",
              "      <th>stock_no</th>\n",
              "      <th>buy_sell</th>\n",
              "      <th>ap_code</th>\n",
              "      <th>price_flag</th>\n",
              "      <th>...</th>\n",
              "      <th>mat_qty</th>\n",
              "      <th>cel_qty</th>\n",
              "      <th>celable</th>\n",
              "      <th>err_code</th>\n",
              "      <th>err_msg</th>\n",
              "      <th>avg_price</th>\n",
              "      <th>bs_flag</th>\n",
              "      <th>org_qty_share</th>\n",
              "      <th>mat_qty_share</th>\n",
              "      <th>cel_qty_share</th>\n",
              "    </tr>\n",
              "  </thead>\n",
              "  <tbody>\n",
              "    <tr>\n",
              "      <th>0</th>\n",
              "      <td>20220401</td>\n",
              "      <td>20220331</td>\n",
              "      <td>174534847</td>\n",
              "      <td>1</td>\n",
              "      <td></td>\n",
              "      <td>P0C8N5IW</td>\n",
              "      <td>2884</td>\n",
              "      <td>B</td>\n",
              "      <td>1</td>\n",
              "      <td>2</td>\n",
              "      <td>...</td>\n",
              "      <td>0</td>\n",
              "      <td>0</td>\n",
              "      <td>1</td>\n",
              "      <td>00000000</td>\n",
              "      <td></td>\n",
              "      <td>0</td>\n",
              "      <td>R</td>\n",
              "      <td>10000</td>\n",
              "      <td>0</td>\n",
              "      <td>0</td>\n",
              "    </tr>\n",
              "    <tr>\n",
              "      <th>1</th>\n",
              "      <td>20220401</td>\n",
              "      <td>20220331</td>\n",
              "      <td>173202813</td>\n",
              "      <td>1</td>\n",
              "      <td></td>\n",
              "      <td>P0A8EB4K</td>\n",
              "      <td>2884</td>\n",
              "      <td>B</td>\n",
              "      <td>1</td>\n",
              "      <td>2</td>\n",
              "      <td>...</td>\n",
              "      <td>0</td>\n",
              "      <td>2</td>\n",
              "      <td>2</td>\n",
              "      <td>00000000</td>\n",
              "      <td></td>\n",
              "      <td>0</td>\n",
              "      <td>R</td>\n",
              "      <td>2000</td>\n",
              "      <td>0</td>\n",
              "      <td>2000</td>\n",
              "    </tr>\n",
              "    <tr>\n",
              "      <th>2</th>\n",
              "      <td>20220331</td>\n",
              "      <td>20220331</td>\n",
              "      <td>083017724</td>\n",
              "      <td>2</td>\n",
              "      <td>60105</td>\n",
              "      <td>P0A8D83O</td>\n",
              "      <td>2884</td>\n",
              "      <td>B</td>\n",
              "      <td>1</td>\n",
              "      <td>2</td>\n",
              "      <td>...</td>\n",
              "      <td>0</td>\n",
              "      <td>10</td>\n",
              "      <td>2</td>\n",
              "      <td>00000000</td>\n",
              "      <td></td>\n",
              "      <td>0.0</td>\n",
              "      <td>R</td>\n",
              "      <td>10000</td>\n",
              "      <td>0</td>\n",
              "      <td>10000</td>\n",
              "    </tr>\n",
              "  </tbody>\n",
              "</table>\n",
              "<p>3 rows × 23 columns</p>\n",
              "</div>\n",
              "      <button class=\"colab-df-convert\" onclick=\"convertToInteractive('df-e86550db-4220-4717-befd-4e2ac3d7fa0c')\"\n",
              "              title=\"Convert this dataframe to an interactive table.\"\n",
              "              style=\"display:none;\">\n",
              "        \n",
              "  <svg xmlns=\"http://www.w3.org/2000/svg\" height=\"24px\"viewBox=\"0 0 24 24\"\n",
              "       width=\"24px\">\n",
              "    <path d=\"M0 0h24v24H0V0z\" fill=\"none\"/>\n",
              "    <path d=\"M18.56 5.44l.94 2.06.94-2.06 2.06-.94-2.06-.94-.94-2.06-.94 2.06-2.06.94zm-11 1L8.5 8.5l.94-2.06 2.06-.94-2.06-.94L8.5 2.5l-.94 2.06-2.06.94zm10 10l.94 2.06.94-2.06 2.06-.94-2.06-.94-.94-2.06-.94 2.06-2.06.94z\"/><path d=\"M17.41 7.96l-1.37-1.37c-.4-.4-.92-.59-1.43-.59-.52 0-1.04.2-1.43.59L10.3 9.45l-7.72 7.72c-.78.78-.78 2.05 0 2.83L4 21.41c.39.39.9.59 1.41.59.51 0 1.02-.2 1.41-.59l7.78-7.78 2.81-2.81c.8-.78.8-2.07 0-2.86zM5.41 20L4 18.59l7.72-7.72 1.47 1.35L5.41 20z\"/>\n",
              "  </svg>\n",
              "      </button>\n",
              "      \n",
              "  <style>\n",
              "    .colab-df-container {\n",
              "      display:flex;\n",
              "      flex-wrap:wrap;\n",
              "      gap: 12px;\n",
              "    }\n",
              "\n",
              "    .colab-df-convert {\n",
              "      background-color: #E8F0FE;\n",
              "      border: none;\n",
              "      border-radius: 50%;\n",
              "      cursor: pointer;\n",
              "      display: none;\n",
              "      fill: #1967D2;\n",
              "      height: 32px;\n",
              "      padding: 0 0 0 0;\n",
              "      width: 32px;\n",
              "    }\n",
              "\n",
              "    .colab-df-convert:hover {\n",
              "      background-color: #E2EBFA;\n",
              "      box-shadow: 0px 1px 2px rgba(60, 64, 67, 0.3), 0px 1px 3px 1px rgba(60, 64, 67, 0.15);\n",
              "      fill: #174EA6;\n",
              "    }\n",
              "\n",
              "    [theme=dark] .colab-df-convert {\n",
              "      background-color: #3B4455;\n",
              "      fill: #D2E3FC;\n",
              "    }\n",
              "\n",
              "    [theme=dark] .colab-df-convert:hover {\n",
              "      background-color: #434B5C;\n",
              "      box-shadow: 0px 1px 3px 1px rgba(0, 0, 0, 0.15);\n",
              "      filter: drop-shadow(0px 1px 2px rgba(0, 0, 0, 0.3));\n",
              "      fill: #FFFFFF;\n",
              "    }\n",
              "  </style>\n",
              "\n",
              "      <script>\n",
              "        const buttonEl =\n",
              "          document.querySelector('#df-e86550db-4220-4717-befd-4e2ac3d7fa0c button.colab-df-convert');\n",
              "        buttonEl.style.display =\n",
              "          google.colab.kernel.accessAllowed ? 'block' : 'none';\n",
              "\n",
              "        async function convertToInteractive(key) {\n",
              "          const element = document.querySelector('#df-e86550db-4220-4717-befd-4e2ac3d7fa0c');\n",
              "          const dataTable =\n",
              "            await google.colab.kernel.invokeFunction('convertToInteractive',\n",
              "                                                     [key], {});\n",
              "          if (!dataTable) return;\n",
              "\n",
              "          const docLinkHtml = 'Like what you see? Visit the ' +\n",
              "            '<a target=\"_blank\" href=https://colab.research.google.com/notebooks/data_table.ipynb>data table notebook</a>'\n",
              "            + ' to learn more about interactive tables.';\n",
              "          element.innerHTML = '';\n",
              "          dataTable['output_type'] = 'display_data';\n",
              "          await google.colab.output.renderOutput(dataTable, element);\n",
              "          const docLink = document.createElement('div');\n",
              "          docLink.innerHTML = docLinkHtml;\n",
              "          element.appendChild(docLink);\n",
              "        }\n",
              "      </script>\n",
              "    </div>\n",
              "  </div>\n",
              "  "
            ]
          },
          "metadata": {},
          "execution_count": 10
        }
      ]
    },
    {
      "cell_type": "code",
      "source": [
        "# 刪掉最新一筆委託單\n",
        "sdk.cancel_order(orderResult[0])"
      ],
      "metadata": {
        "id": "MKJX-IGMoRD3",
        "colab": {
          "base_uri": "https://localhost:8080/"
        },
        "outputId": "8ac9e899-35aa-4d17-8310-5b4bf2f65fc9"
      },
      "execution_count": 11,
      "outputs": [
        {
          "output_type": "execute_result",
          "data": {
            "text/plain": [
              "{'ord_date': '20220331',\n",
              " 'ord_time': '174544309',\n",
              " 'ret_code': '000000',\n",
              " 'ret_msg': ''}"
            ]
          },
          "metadata": {},
          "execution_count": 11
        }
      ]
    },
    {
      "cell_type": "markdown",
      "source": [
        "# 簡易策略 demo code"
      ],
      "metadata": {
        "id": "HDYu04CkrN5Z"
      }
    },
    {
      "cell_type": "code",
      "source": [
        "# pip install fugle-realtime API library from https://github.com/fugle-dev/fugle-realtime-python\n",
        "\n",
        "!pip install fugle-realtime\n"
      ],
      "metadata": {
        "colab": {
          "base_uri": "https://localhost:8080/"
        },
        "id": "L1oHsOEP7iHD",
        "outputId": "919863c7-b37d-431f-8960-be35c1d44037"
      },
      "execution_count": 12,
      "outputs": [
        {
          "output_type": "stream",
          "name": "stdout",
          "text": [
            "Collecting fugle-realtime\n",
            "  Downloading fugle_realtime-0.3.1-py3-none-any.whl (6.1 kB)\n",
            "Collecting requests<3.0.0,>=2.26.0\n",
            "  Downloading requests-2.27.1-py2.py3-none-any.whl (63 kB)\n",
            "\u001b[K     |████████████████████████████████| 63 kB 1.5 MB/s \n",
            "\u001b[?25hRequirement already satisfied: websocket-client<2.0.0,>=1.2.1 in /usr/local/lib/python3.7/dist-packages (from fugle-realtime) (1.2.1)\n",
            "Requirement already satisfied: idna<4,>=2.5 in /usr/local/lib/python3.7/dist-packages (from requests<3.0.0,>=2.26.0->fugle-realtime) (2.10)\n",
            "Requirement already satisfied: certifi>=2017.4.17 in /usr/local/lib/python3.7/dist-packages (from requests<3.0.0,>=2.26.0->fugle-realtime) (2021.10.8)\n",
            "Requirement already satisfied: charset-normalizer~=2.0.0 in /usr/local/lib/python3.7/dist-packages (from requests<3.0.0,>=2.26.0->fugle-realtime) (2.0.12)\n",
            "Requirement already satisfied: urllib3<1.27,>=1.21.1 in /usr/local/lib/python3.7/dist-packages (from requests<3.0.0,>=2.26.0->fugle-realtime) (1.24.3)\n",
            "Installing collected packages: requests, fugle-realtime\n",
            "  Attempting uninstall: requests\n",
            "    Found existing installation: requests 2.23.0\n",
            "    Uninstalling requests-2.23.0:\n",
            "      Successfully uninstalled requests-2.23.0\n",
            "\u001b[31mERROR: pip's dependency resolver does not currently take into account all the packages that are installed. This behaviour is the source of the following dependency conflicts.\n",
            "google-colab 1.0.0 requires requests~=2.23.0, but you have requests 2.27.1 which is incompatible.\n",
            "datascience 0.10.6 requires folium==0.2.1, but you have folium 0.8.3 which is incompatible.\u001b[0m\n",
            "Successfully installed fugle-realtime-0.3.1 requests-2.27.1\n"
          ]
        }
      ]
    },
    {
      "cell_type": "code",
      "source": [
        "# 安裝 富果行情 API sdk\n",
        "from fugle_realtime import HttpClient\n",
        "\n",
        "# 請輸入自己的 apiToken，才能查看其他個股哦 ！！\n",
        "api_client = HttpClient(api_token='demo')"
      ],
      "metadata": {
        "id": "Y2g6qfpu7m5p"
      },
      "execution_count": 13,
      "outputs": []
    },
    {
      "cell_type": "code",
      "source": [
        "# 安裝相關套件\n",
        "import requests\n",
        "import numpy as np\n",
        "import pandas as pd\n",
        "import datetime\n",
        "import time"
      ],
      "metadata": {
        "id": "CPiTryxqrEWT"
      },
      "execution_count": 14,
      "outputs": []
    },
    {
      "cell_type": "code",
      "source": [
        "# 取得正式環境設定檔並登入\n",
        "\n",
        "config = ConfigParser()\n",
        "\n",
        "config.read('./config.ini')\n",
        "\n",
        "sdk = SDK(config)\n",
        "\n",
        "sdk.login()"
      ],
      "metadata": {
        "id": "g0557wa-pOiz"
      },
      "execution_count": 15,
      "outputs": []
    },
    {
      "cell_type": "markdown",
      "source": [
        "## 觸量下單 demo\n",
        "\n"
      ],
      "metadata": {
        "id": "UruARLID1F1A"
      }
    },
    {
      "cell_type": "markdown",
      "source": [
        "策略描述：<br>\n",
        "盤中突然的大單，可以反映大戶的交易意願提升，而外盤成交代表買方願意用比較高的價格買，代表有較強烈的買進意圖<br>\n",
        "因此這裡建構一個簡單的策略：當最新一筆成交是外盤成交，且成交量是前一筆的 10 倍以上就跟！"
      ],
      "metadata": {
        "id": "qZFqxoqHH7QW"
      }
    },
    {
      "cell_type": "code",
      "source": [
        "## set parameter\n",
        "\n",
        "# 輸入股票代碼\n",
        "symbolId = \"2884\"\n",
        "\n",
        "# 下單張數\n",
        "tradingVolume = 10\n",
        "\n",
        "\n",
        "#----------------------------------\n",
        "while True:  \n",
        "\n",
        "    # 從 dealts API 取得最新兩筆成交明細數據 \n",
        "    price_data = api_client.intraday.dealts(symbolId = symbolId)['data']['dealts'][:5]\n",
        " \n",
        "    \n",
        "    #策略條件：最新一筆成交量 大於等於 前一筆成交量的10倍 且為外盤成交\n",
        "    if (price_data[0]['volume'] >= price_data[1]['volume']*10) and (price_data[0]['ask'] <= price_data[0]['price']):\n",
        "\n",
        "        # 委託資訊\n",
        "        order = OrderObject(\n",
        "            buy_sell = Action.Buy,\n",
        "            price_flag = PriceFlag.LimitDown,\n",
        "            price = None,\n",
        "            stock_no = str(symbolId),\n",
        "            quantity = tradingVolume,\n",
        "            ap_code = APCode.Common\n",
        "        )\n",
        "\n",
        "        # 送下單委託\n",
        "        sdk.place_order(order)\n",
        "        \n",
        "        print('成功送出委託')\n",
        "        print(f'買進張數：{tradingVolume} 張')\n",
        "\n",
        "        break\n",
        "        \n",
        "    else:\n",
        "        print(f\"最新成交量 {str(price_data[0]['volume'])} 張\")\n",
        "        print(f'外盤成交：',str(price_data[0]['ask'] <= price_data[0]['price']))\n",
        "        print('未達買進條件!')\n",
        "        print('---')\n",
        "        time.sleep(1)\n"
      ],
      "metadata": {
        "colab": {
          "base_uri": "https://localhost:8080/"
        },
        "id": "jPcYEe6M065q",
        "outputId": "73b51802-6252-4ecb-c992-bba3d9e79820"
      },
      "execution_count": 16,
      "outputs": [
        {
          "output_type": "stream",
          "name": "stdout",
          "text": [
            "成功送出委託\n",
            "買進張數：10 張\n"
          ]
        }
      ]
    },
    {
      "cell_type": "code",
      "source": [
        "# 查看委託回報\n",
        "sdk.login()\n",
        "orderResult = sdk.get_order_results()\n",
        "print(orderResult[0])"
      ],
      "metadata": {
        "colab": {
          "base_uri": "https://localhost:8080/"
        },
        "outputId": "a5d29614-516e-4781-ee6d-effa2e516bad",
        "id": "5OirgshwCrpY"
      },
      "execution_count": 17,
      "outputs": [
        {
          "output_type": "stream",
          "name": "stdout",
          "text": [
            "{'work_date': '20220401', 'ord_date': '20220331', 'ord_time': '174638699', 'ord_status': '1', 'ord_no': '', 'pre_ord_no': 'P0B8KKS3', 'stock_no': '2884', 'buy_sell': 'B', 'ap_code': '1', 'price_flag': '2', 'trade': '0', 'od_price': '0.0', 'org_qty': 10, 'mat_qty': 0, 'cel_qty': 0, 'celable': '1', 'err_code': '00000000', 'err_msg': '', 'avg_price': '0', 'bs_flag': 'R', 'org_qty_share': 10000, 'mat_qty_share': 0, 'cel_qty_share': 0}\n"
          ]
        }
      ]
    },
    {
      "cell_type": "code",
      "source": [
        "# 刪掉第 0 筆單\n",
        "sdk.cancel_order(orderResult[0])"
      ],
      "metadata": {
        "id": "bbLvSptzCxzb",
        "colab": {
          "base_uri": "https://localhost:8080/"
        },
        "outputId": "1bf0772a-d68c-472f-b632-9d2749052e51"
      },
      "execution_count": 18,
      "outputs": [
        {
          "output_type": "execute_result",
          "data": {
            "text/plain": [
              "{'ord_date': '20220331',\n",
              " 'ord_time': '174649364',\n",
              " 'ret_code': '000000',\n",
              " 'ret_msg': ''}"
            ]
          },
          "metadata": {},
          "execution_count": 18
        }
      ]
    },
    {
      "cell_type": "code",
      "source": [
        ""
      ],
      "metadata": {
        "id": "WI5KyndesLxw"
      },
      "execution_count": null,
      "outputs": []
    }
  ]
}
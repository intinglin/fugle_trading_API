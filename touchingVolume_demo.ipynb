{
  "nbformat": 4,
  "nbformat_minor": 0,
  "metadata": {
    "colab": {
      "name": "觸量下單demo code.ipynb",
      "provenance": [],
      "collapsed_sections": [
        "ypbMuOUHpYLT"
      ]
    },
    "kernelspec": {
      "name": "python3",
      "display_name": "Python 3"
    },
    "language_info": {
      "name": "python"
    }
  },
  "cells": [
    {
      "cell_type": "markdown",
      "source": [
        "# 安裝 fugle-trade 套件"
      ],
      "metadata": {
        "id": "MlOik0dEop1i"
      }
    },
    {
      "cell_type": "code",
      "execution_count": 1,
      "metadata": {
        "colab": {
          "base_uri": "https://localhost:8080/"
        },
        "id": "gLzupNpZobdo",
        "outputId": "9a638d39-aaf3-48be-873d-4fd67d0c3c2f"
      },
      "outputs": [
        {
          "output_type": "stream",
          "name": "stdout",
          "text": [
            "Collecting fugle-trade==0.1.8\n",
            "  Downloading fugle_trade-0.1.8-py3-none-any.whl (6.3 kB)\n",
            "Collecting fugle-trade-core==0.1.6\n",
            "  Downloading fugle_trade_core-0.1.6-cp37-cp37m-manylinux_2_12_x86_64.manylinux2010_x86_64.whl (3.9 MB)\n",
            "\u001b[K     |████████████████████████████████| 3.9 MB 6.9 MB/s \n",
            "\u001b[?25hCollecting keyrings.cryptfile==1.3.8\n",
            "  Downloading keyrings.cryptfile-1.3.8.tar.gz (18 kB)\n",
            "Collecting keyring==23.5.0\n",
            "  Downloading keyring-23.5.0-py3-none-any.whl (33 kB)\n",
            "Collecting websocket-client==1.2.1\n",
            "  Downloading websocket_client-1.2.1-py2.py3-none-any.whl (52 kB)\n",
            "\u001b[K     |████████████████████████████████| 52 kB 1.5 MB/s \n",
            "\u001b[?25hRequirement already satisfied: importlib-metadata>=3.6 in /usr/local/lib/python3.7/dist-packages (from keyring==23.5.0->fugle-trade==0.1.8) (4.11.2)\n",
            "Collecting SecretStorage>=3.2\n",
            "  Downloading SecretStorage-3.3.1-py3-none-any.whl (15 kB)\n",
            "Collecting jeepney>=0.4.2\n",
            "  Downloading jeepney-0.7.1-py3-none-any.whl (54 kB)\n",
            "\u001b[K     |████████████████████████████████| 54 kB 2.5 MB/s \n",
            "\u001b[?25hRequirement already satisfied: argon2_cffi in /usr/local/lib/python3.7/dist-packages (from keyrings.cryptfile==1.3.8->fugle-trade==0.1.8) (21.3.0)\n",
            "Collecting pycryptodome\n",
            "  Downloading pycryptodome-3.14.1-cp35-abi3-manylinux2010_x86_64.whl (2.0 MB)\n",
            "\u001b[K     |████████████████████████████████| 2.0 MB 27.5 MB/s \n",
            "\u001b[?25hRequirement already satisfied: typing-extensions>=3.6.4 in /usr/local/lib/python3.7/dist-packages (from importlib-metadata>=3.6->keyring==23.5.0->fugle-trade==0.1.8) (3.10.0.2)\n",
            "Requirement already satisfied: zipp>=0.5 in /usr/local/lib/python3.7/dist-packages (from importlib-metadata>=3.6->keyring==23.5.0->fugle-trade==0.1.8) (3.7.0)\n",
            "Collecting cryptography>=2.0\n",
            "  Downloading cryptography-36.0.1-cp36-abi3-manylinux_2_24_x86_64.whl (3.6 MB)\n",
            "\u001b[K     |████████████████████████████████| 3.6 MB 23.6 MB/s \n",
            "\u001b[?25hRequirement already satisfied: cffi>=1.12 in /usr/local/lib/python3.7/dist-packages (from cryptography>=2.0->SecretStorage>=3.2->keyring==23.5.0->fugle-trade==0.1.8) (1.15.0)\n",
            "Requirement already satisfied: pycparser in /usr/local/lib/python3.7/dist-packages (from cffi>=1.12->cryptography>=2.0->SecretStorage>=3.2->keyring==23.5.0->fugle-trade==0.1.8) (2.21)\n",
            "Requirement already satisfied: argon2-cffi-bindings in /usr/local/lib/python3.7/dist-packages (from argon2_cffi->keyrings.cryptfile==1.3.8->fugle-trade==0.1.8) (21.2.0)\n",
            "Building wheels for collected packages: keyrings.cryptfile\n",
            "  Building wheel for keyrings.cryptfile (setup.py) ... \u001b[?25l\u001b[?25hdone\n",
            "  Created wheel for keyrings.cryptfile: filename=keyrings.cryptfile-1.3.8-py2.py3-none-any.whl size=17837 sha256=1631740de48823a92d55b77adc38e41167dac0cce26e11362930c81068af8743\n",
            "  Stored in directory: /root/.cache/pip/wheels/4d/27/4d/c5d8637dc5fd0fac41b838ca49f0bbbde7b6cf47b8fa4339da\n",
            "Successfully built keyrings.cryptfile\n",
            "Installing collected packages: jeepney, cryptography, SecretStorage, pycryptodome, keyring, websocket-client, keyrings.cryptfile, fugle-trade-core, fugle-trade\n",
            "Successfully installed SecretStorage-3.3.1 cryptography-36.0.1 fugle-trade-0.1.8 fugle-trade-core-0.1.6 jeepney-0.7.1 keyring-23.5.0 keyrings.cryptfile-1.3.8 pycryptodome-3.14.1 websocket-client-1.2.1\n"
          ]
        }
      ],
      "source": [
        "# pip install 需要的套件\n",
        "!pip install fugle-trade==0.1.8"
      ]
    },
    {
      "cell_type": "code",
      "source": [
        "from configparser import ConfigParser\n",
        "from fugle_trade.sdk import SDK\n",
        "\n",
        "from fugle_trade.order import OrderObject\n",
        "from fugle_trade.constant import (APCode, Trade, PriceFlag, BSFlag, Action)"
      ],
      "metadata": {
        "id": "2Ly7N8ZvpDbB"
      },
      "execution_count": 2,
      "outputs": []
    },
    {
      "cell_type": "markdown",
      "source": [
        "# 模擬環境測試"
      ],
      "metadata": {
        "id": "ypbMuOUHpYLT"
      }
    },
    {
      "cell_type": "markdown",
      "source": [
        "您在首次使用交易 API 取得正式環境的使用權限前，您會需要在模擬環境至少送出一筆委託"
      ],
      "metadata": {
        "id": "BI2v7bsiDt-1"
      }
    },
    {
      "cell_type": "code",
      "source": [
        "## 取得 new 模擬環境設定檔並登入\n",
        "\n",
        "config = ConfigParser()\n",
        "\n",
        "config.read('./config.simulation.ini')\n",
        "\n",
        "sdk = SDK(config)\n",
        "\n",
        "sdk.login()"
      ],
      "metadata": {
        "id": "MafdTQxiiy4z",
        "colab": {
          "base_uri": "https://localhost:8080/"
        },
        "outputId": "99eda381-71b1-4049-e563-9fec7be821a0"
      },
      "execution_count": null,
      "outputs": [
        {
          "name": "stdout",
          "output_type": "stream",
          "text": [
            "Enter esun account password:\n",
            "··········\n",
            "Please set a password for your new keyring: ··········\n",
            "Please confirm the password: ··········\n",
            "Enter cert password:\n",
            "··········\n"
          ]
        }
      ]
    },
    {
      "cell_type": "code",
      "source": [
        "t## 模擬金鑰下單測試\n",
        "order = OrderObject(\n",
        "    buySell = Action.Buy,\n",
        "    price = 27.0,\n",
        "    stockNo = \"2884\",\n",
        "    quantity = 2,\n",
        ")\n",
        "\n",
        "sdk.place_order(order)\n",
        "\n",
        "print(\"Your order has been placed successfully.\")"
      ],
      "metadata": {
        "id": "q7lpSUpgprMH"
      },
      "execution_count": null,
      "outputs": []
    },
    {
      "cell_type": "code",
      "source": [
        "## 查看委託回報\n",
        "sdk.get_order_results()"
      ],
      "metadata": {
        "id": "J-CsCZtRFrvB"
      },
      "execution_count": null,
      "outputs": []
    },
    {
      "cell_type": "code",
      "source": [
        "## 更改密碼\n",
        "# sdk.reset_password()"
      ],
      "metadata": {
        "id": "QsciuPDtqDxG"
      },
      "execution_count": null,
      "outputs": []
    },
    {
      "cell_type": "markdown",
      "source": [
        "# 正式環境"
      ],
      "metadata": {
        "id": "S2GLVe0OqICs"
      }
    },
    {
      "cell_type": "markdown",
      "source": [
        "在 colab 環境因安全性考量，會需要增加 keyring 來設置密碼，這邊的第一個密碼是證券登入密碼，第四個則是憑證密碼，中間兩個則是相同的 keyring 密碼"
      ],
      "metadata": {
        "id": "wHwSkQp5EqWp"
      }
    },
    {
      "cell_type": "code",
      "source": [
        "# 取得正式環境設定檔並登入\n",
        "\n",
        "config = ConfigParser()\n",
        "\n",
        "config.read('./config.ini')\n",
        "\n",
        "sdk = SDK(config)\n",
        "\n",
        "sdk.login()"
      ],
      "metadata": {
        "id": "eNehccxakozL",
        "colab": {
          "base_uri": "https://localhost:8080/"
        },
        "outputId": "a1c61db1-c04c-4baa-d5e1-2ea9e871bba2"
      },
      "execution_count": 4,
      "outputs": [
        {
          "name": "stdout",
          "output_type": "stream",
          "text": [
            "Enter esun account password:\n",
            "··········\n",
            "Please set a password for your new keyring: ··········\n",
            "Please confirm the password: ··········\n",
            "Enter cert password:\n",
            "··········\n"
          ]
        }
      ]
    },
    {
      "cell_type": "markdown",
      "source": [
        "## 下委託"
      ],
      "metadata": {
        "id": "UIzloRhKoOYM"
      }
    },
    {
      "cell_type": "code",
      "source": [
        "# 下委託單\n",
        "order = OrderObject(\n",
        "    apCode = APCode.Common,# 盤別\n",
        "    buySell = Action.Buy,\n",
        "    priceFlag= PriceFlag.LimitDown, # 下跌停價買進\n",
        "    price = None,\n",
        "    stockNo = str(2884),\n",
        "    quantity = 10,\n",
        ")\n",
        "\n",
        "sdk.place_order(order)"
      ],
      "metadata": {
        "colab": {
          "base_uri": "https://localhost:8080/"
        },
        "id": "e68u4x5lI0sJ",
        "outputId": "4e5571a2-4276-46f9-b399-ce8ffe876e68"
      },
      "execution_count": 5,
      "outputs": [
        {
          "output_type": "execute_result",
          "data": {
            "text/plain": [
              "{'ordDate': '20220315',\n",
              " 'ordTime': '162644694',\n",
              " 'ordType': '1',\n",
              " 'ordno': 'P0D85NHS',\n",
              " 'retcode': '000000',\n",
              " 'retmsg': '',\n",
              " 'workDate': '20220316'}"
            ]
          },
          "metadata": {},
          "execution_count": 5
        }
      ]
    },
    {
      "cell_type": "code",
      "source": [
        "# 委託回報\n",
        "orderResult = sdk.get_order_results()\n",
        "\n",
        "# 查看委託回報狀況\n",
        "import pandas as pd\n",
        "pd.DataFrame(orderResult)"
      ],
      "metadata": {
        "id": "UFkUn3Uqq8wn",
        "colab": {
          "base_uri": "https://localhost:8080/",
          "height": 456
        },
        "outputId": "762863fb-c656-4429-d5c8-7ad7333b9eb7"
      },
      "execution_count": 6,
      "outputs": [
        {
          "output_type": "execute_result",
          "data": {
            "text/plain": [
              "  market  workdate   orddate    ordtime syscode ordstatus  ordno  preordno  \\\n",
              "0      T  20220316  20220315  162644694      FA         1         P0D85NHS   \n",
              "1      T  20220316  20220315  145246203      FA         1         P0D85N9F   \n",
              "2    NaN  20220315  20220315  132115772      FA         2  C1141             \n",
              "3    NaN  20220315  20220315  132102194      FA         2  C1115             \n",
              "4    NaN  20220315  20220315  112715893      FA         2  B3927             \n",
              "5    NaN  20220315  20220315  105502398      FA         2  B1824             \n",
              "6    NaN  20220315  20220315  105340069      FA         2  B1725             \n",
              "7    NaN  20220315  20220315  103856801      FA         2  B0624             \n",
              "8    NaN  20220315  20220315  103741864      FA         2  B0534             \n",
              "9    NaN  20220315  20220315  103658933      FA         2  B0453             \n",
              "\n",
              "  stockno buysell  ... celable   errcode errmsg avgPrice    chgtime   chgdate  \\\n",
              "0    2884       B  ...       1  00000000               0  162644694  20220315   \n",
              "1    2884       B  ...       2  00000000               0  145303275  20220315   \n",
              "2    2884       B  ...       2  00000000             0.0  132222419  20220315   \n",
              "3    2884       B  ...       2  00000000             0.0  132226438  20220315   \n",
              "4    2884       B  ...       2  00000000             0.0  113012408  20220315   \n",
              "5    2884       B  ...       2  00000000             0.0  113022522  20220315   \n",
              "6    2884       B  ...       2  00000000             0.0  105445117  20220315   \n",
              "7    2884       B  ...       2  00000000             0.0  105440112  20220315   \n",
              "8    2884       B  ...       2  00000000             0.0  103824099  20220315   \n",
              "9    2884       B  ...       2  00000000             0.0  103829772  20220315   \n",
              "\n",
              "   bsFlag orgqty_share matqty_share celqty_share  \n",
              "0       R        10000            0            0  \n",
              "1       R        10000            0        10000  \n",
              "2       R        10000            0        10000  \n",
              "3       R        10000            0        10000  \n",
              "4       R        10000            0        10000  \n",
              "5       R        10000            0        10000  \n",
              "6       R        10000            0        10000  \n",
              "7       R        10000            0        10000  \n",
              "8       R        10000            0        10000  \n",
              "9       R        10000            0        10000  \n",
              "\n",
              "[10 rows x 27 columns]"
            ],
            "text/html": [
              "\n",
              "  <div id=\"df-51bdd74a-ae32-4ad5-a9bf-b0b44bd71949\">\n",
              "    <div class=\"colab-df-container\">\n",
              "      <div>\n",
              "<style scoped>\n",
              "    .dataframe tbody tr th:only-of-type {\n",
              "        vertical-align: middle;\n",
              "    }\n",
              "\n",
              "    .dataframe tbody tr th {\n",
              "        vertical-align: top;\n",
              "    }\n",
              "\n",
              "    .dataframe thead th {\n",
              "        text-align: right;\n",
              "    }\n",
              "</style>\n",
              "<table border=\"1\" class=\"dataframe\">\n",
              "  <thead>\n",
              "    <tr style=\"text-align: right;\">\n",
              "      <th></th>\n",
              "      <th>market</th>\n",
              "      <th>workdate</th>\n",
              "      <th>orddate</th>\n",
              "      <th>ordtime</th>\n",
              "      <th>syscode</th>\n",
              "      <th>ordstatus</th>\n",
              "      <th>ordno</th>\n",
              "      <th>preordno</th>\n",
              "      <th>stockno</th>\n",
              "      <th>buysell</th>\n",
              "      <th>...</th>\n",
              "      <th>celable</th>\n",
              "      <th>errcode</th>\n",
              "      <th>errmsg</th>\n",
              "      <th>avgPrice</th>\n",
              "      <th>chgtime</th>\n",
              "      <th>chgdate</th>\n",
              "      <th>bsFlag</th>\n",
              "      <th>orgqty_share</th>\n",
              "      <th>matqty_share</th>\n",
              "      <th>celqty_share</th>\n",
              "    </tr>\n",
              "  </thead>\n",
              "  <tbody>\n",
              "    <tr>\n",
              "      <th>0</th>\n",
              "      <td>T</td>\n",
              "      <td>20220316</td>\n",
              "      <td>20220315</td>\n",
              "      <td>162644694</td>\n",
              "      <td>FA</td>\n",
              "      <td>1</td>\n",
              "      <td></td>\n",
              "      <td>P0D85NHS</td>\n",
              "      <td>2884</td>\n",
              "      <td>B</td>\n",
              "      <td>...</td>\n",
              "      <td>1</td>\n",
              "      <td>00000000</td>\n",
              "      <td></td>\n",
              "      <td>0</td>\n",
              "      <td>162644694</td>\n",
              "      <td>20220315</td>\n",
              "      <td>R</td>\n",
              "      <td>10000</td>\n",
              "      <td>0</td>\n",
              "      <td>0</td>\n",
              "    </tr>\n",
              "    <tr>\n",
              "      <th>1</th>\n",
              "      <td>T</td>\n",
              "      <td>20220316</td>\n",
              "      <td>20220315</td>\n",
              "      <td>145246203</td>\n",
              "      <td>FA</td>\n",
              "      <td>1</td>\n",
              "      <td></td>\n",
              "      <td>P0D85N9F</td>\n",
              "      <td>2884</td>\n",
              "      <td>B</td>\n",
              "      <td>...</td>\n",
              "      <td>2</td>\n",
              "      <td>00000000</td>\n",
              "      <td></td>\n",
              "      <td>0</td>\n",
              "      <td>145303275</td>\n",
              "      <td>20220315</td>\n",
              "      <td>R</td>\n",
              "      <td>10000</td>\n",
              "      <td>0</td>\n",
              "      <td>10000</td>\n",
              "    </tr>\n",
              "    <tr>\n",
              "      <th>2</th>\n",
              "      <td>NaN</td>\n",
              "      <td>20220315</td>\n",
              "      <td>20220315</td>\n",
              "      <td>132115772</td>\n",
              "      <td>FA</td>\n",
              "      <td>2</td>\n",
              "      <td>C1141</td>\n",
              "      <td></td>\n",
              "      <td>2884</td>\n",
              "      <td>B</td>\n",
              "      <td>...</td>\n",
              "      <td>2</td>\n",
              "      <td>00000000</td>\n",
              "      <td></td>\n",
              "      <td>0.0</td>\n",
              "      <td>132222419</td>\n",
              "      <td>20220315</td>\n",
              "      <td>R</td>\n",
              "      <td>10000</td>\n",
              "      <td>0</td>\n",
              "      <td>10000</td>\n",
              "    </tr>\n",
              "    <tr>\n",
              "      <th>3</th>\n",
              "      <td>NaN</td>\n",
              "      <td>20220315</td>\n",
              "      <td>20220315</td>\n",
              "      <td>132102194</td>\n",
              "      <td>FA</td>\n",
              "      <td>2</td>\n",
              "      <td>C1115</td>\n",
              "      <td></td>\n",
              "      <td>2884</td>\n",
              "      <td>B</td>\n",
              "      <td>...</td>\n",
              "      <td>2</td>\n",
              "      <td>00000000</td>\n",
              "      <td></td>\n",
              "      <td>0.0</td>\n",
              "      <td>132226438</td>\n",
              "      <td>20220315</td>\n",
              "      <td>R</td>\n",
              "      <td>10000</td>\n",
              "      <td>0</td>\n",
              "      <td>10000</td>\n",
              "    </tr>\n",
              "    <tr>\n",
              "      <th>4</th>\n",
              "      <td>NaN</td>\n",
              "      <td>20220315</td>\n",
              "      <td>20220315</td>\n",
              "      <td>112715893</td>\n",
              "      <td>FA</td>\n",
              "      <td>2</td>\n",
              "      <td>B3927</td>\n",
              "      <td></td>\n",
              "      <td>2884</td>\n",
              "      <td>B</td>\n",
              "      <td>...</td>\n",
              "      <td>2</td>\n",
              "      <td>00000000</td>\n",
              "      <td></td>\n",
              "      <td>0.0</td>\n",
              "      <td>113012408</td>\n",
              "      <td>20220315</td>\n",
              "      <td>R</td>\n",
              "      <td>10000</td>\n",
              "      <td>0</td>\n",
              "      <td>10000</td>\n",
              "    </tr>\n",
              "    <tr>\n",
              "      <th>5</th>\n",
              "      <td>NaN</td>\n",
              "      <td>20220315</td>\n",
              "      <td>20220315</td>\n",
              "      <td>105502398</td>\n",
              "      <td>FA</td>\n",
              "      <td>2</td>\n",
              "      <td>B1824</td>\n",
              "      <td></td>\n",
              "      <td>2884</td>\n",
              "      <td>B</td>\n",
              "      <td>...</td>\n",
              "      <td>2</td>\n",
              "      <td>00000000</td>\n",
              "      <td></td>\n",
              "      <td>0.0</td>\n",
              "      <td>113022522</td>\n",
              "      <td>20220315</td>\n",
              "      <td>R</td>\n",
              "      <td>10000</td>\n",
              "      <td>0</td>\n",
              "      <td>10000</td>\n",
              "    </tr>\n",
              "    <tr>\n",
              "      <th>6</th>\n",
              "      <td>NaN</td>\n",
              "      <td>20220315</td>\n",
              "      <td>20220315</td>\n",
              "      <td>105340069</td>\n",
              "      <td>FA</td>\n",
              "      <td>2</td>\n",
              "      <td>B1725</td>\n",
              "      <td></td>\n",
              "      <td>2884</td>\n",
              "      <td>B</td>\n",
              "      <td>...</td>\n",
              "      <td>2</td>\n",
              "      <td>00000000</td>\n",
              "      <td></td>\n",
              "      <td>0.0</td>\n",
              "      <td>105445117</td>\n",
              "      <td>20220315</td>\n",
              "      <td>R</td>\n",
              "      <td>10000</td>\n",
              "      <td>0</td>\n",
              "      <td>10000</td>\n",
              "    </tr>\n",
              "    <tr>\n",
              "      <th>7</th>\n",
              "      <td>NaN</td>\n",
              "      <td>20220315</td>\n",
              "      <td>20220315</td>\n",
              "      <td>103856801</td>\n",
              "      <td>FA</td>\n",
              "      <td>2</td>\n",
              "      <td>B0624</td>\n",
              "      <td></td>\n",
              "      <td>2884</td>\n",
              "      <td>B</td>\n",
              "      <td>...</td>\n",
              "      <td>2</td>\n",
              "      <td>00000000</td>\n",
              "      <td></td>\n",
              "      <td>0.0</td>\n",
              "      <td>105440112</td>\n",
              "      <td>20220315</td>\n",
              "      <td>R</td>\n",
              "      <td>10000</td>\n",
              "      <td>0</td>\n",
              "      <td>10000</td>\n",
              "    </tr>\n",
              "    <tr>\n",
              "      <th>8</th>\n",
              "      <td>NaN</td>\n",
              "      <td>20220315</td>\n",
              "      <td>20220315</td>\n",
              "      <td>103741864</td>\n",
              "      <td>FA</td>\n",
              "      <td>2</td>\n",
              "      <td>B0534</td>\n",
              "      <td></td>\n",
              "      <td>2884</td>\n",
              "      <td>B</td>\n",
              "      <td>...</td>\n",
              "      <td>2</td>\n",
              "      <td>00000000</td>\n",
              "      <td></td>\n",
              "      <td>0.0</td>\n",
              "      <td>103824099</td>\n",
              "      <td>20220315</td>\n",
              "      <td>R</td>\n",
              "      <td>10000</td>\n",
              "      <td>0</td>\n",
              "      <td>10000</td>\n",
              "    </tr>\n",
              "    <tr>\n",
              "      <th>9</th>\n",
              "      <td>NaN</td>\n",
              "      <td>20220315</td>\n",
              "      <td>20220315</td>\n",
              "      <td>103658933</td>\n",
              "      <td>FA</td>\n",
              "      <td>2</td>\n",
              "      <td>B0453</td>\n",
              "      <td></td>\n",
              "      <td>2884</td>\n",
              "      <td>B</td>\n",
              "      <td>...</td>\n",
              "      <td>2</td>\n",
              "      <td>00000000</td>\n",
              "      <td></td>\n",
              "      <td>0.0</td>\n",
              "      <td>103829772</td>\n",
              "      <td>20220315</td>\n",
              "      <td>R</td>\n",
              "      <td>10000</td>\n",
              "      <td>0</td>\n",
              "      <td>10000</td>\n",
              "    </tr>\n",
              "  </tbody>\n",
              "</table>\n",
              "<p>10 rows × 27 columns</p>\n",
              "</div>\n",
              "      <button class=\"colab-df-convert\" onclick=\"convertToInteractive('df-51bdd74a-ae32-4ad5-a9bf-b0b44bd71949')\"\n",
              "              title=\"Convert this dataframe to an interactive table.\"\n",
              "              style=\"display:none;\">\n",
              "        \n",
              "  <svg xmlns=\"http://www.w3.org/2000/svg\" height=\"24px\"viewBox=\"0 0 24 24\"\n",
              "       width=\"24px\">\n",
              "    <path d=\"M0 0h24v24H0V0z\" fill=\"none\"/>\n",
              "    <path d=\"M18.56 5.44l.94 2.06.94-2.06 2.06-.94-2.06-.94-.94-2.06-.94 2.06-2.06.94zm-11 1L8.5 8.5l.94-2.06 2.06-.94-2.06-.94L8.5 2.5l-.94 2.06-2.06.94zm10 10l.94 2.06.94-2.06 2.06-.94-2.06-.94-.94-2.06-.94 2.06-2.06.94z\"/><path d=\"M17.41 7.96l-1.37-1.37c-.4-.4-.92-.59-1.43-.59-.52 0-1.04.2-1.43.59L10.3 9.45l-7.72 7.72c-.78.78-.78 2.05 0 2.83L4 21.41c.39.39.9.59 1.41.59.51 0 1.02-.2 1.41-.59l7.78-7.78 2.81-2.81c.8-.78.8-2.07 0-2.86zM5.41 20L4 18.59l7.72-7.72 1.47 1.35L5.41 20z\"/>\n",
              "  </svg>\n",
              "      </button>\n",
              "      \n",
              "  <style>\n",
              "    .colab-df-container {\n",
              "      display:flex;\n",
              "      flex-wrap:wrap;\n",
              "      gap: 12px;\n",
              "    }\n",
              "\n",
              "    .colab-df-convert {\n",
              "      background-color: #E8F0FE;\n",
              "      border: none;\n",
              "      border-radius: 50%;\n",
              "      cursor: pointer;\n",
              "      display: none;\n",
              "      fill: #1967D2;\n",
              "      height: 32px;\n",
              "      padding: 0 0 0 0;\n",
              "      width: 32px;\n",
              "    }\n",
              "\n",
              "    .colab-df-convert:hover {\n",
              "      background-color: #E2EBFA;\n",
              "      box-shadow: 0px 1px 2px rgba(60, 64, 67, 0.3), 0px 1px 3px 1px rgba(60, 64, 67, 0.15);\n",
              "      fill: #174EA6;\n",
              "    }\n",
              "\n",
              "    [theme=dark] .colab-df-convert {\n",
              "      background-color: #3B4455;\n",
              "      fill: #D2E3FC;\n",
              "    }\n",
              "\n",
              "    [theme=dark] .colab-df-convert:hover {\n",
              "      background-color: #434B5C;\n",
              "      box-shadow: 0px 1px 3px 1px rgba(0, 0, 0, 0.15);\n",
              "      filter: drop-shadow(0px 1px 2px rgba(0, 0, 0, 0.3));\n",
              "      fill: #FFFFFF;\n",
              "    }\n",
              "  </style>\n",
              "\n",
              "      <script>\n",
              "        const buttonEl =\n",
              "          document.querySelector('#df-51bdd74a-ae32-4ad5-a9bf-b0b44bd71949 button.colab-df-convert');\n",
              "        buttonEl.style.display =\n",
              "          google.colab.kernel.accessAllowed ? 'block' : 'none';\n",
              "\n",
              "        async function convertToInteractive(key) {\n",
              "          const element = document.querySelector('#df-51bdd74a-ae32-4ad5-a9bf-b0b44bd71949');\n",
              "          const dataTable =\n",
              "            await google.colab.kernel.invokeFunction('convertToInteractive',\n",
              "                                                     [key], {});\n",
              "          if (!dataTable) return;\n",
              "\n",
              "          const docLinkHtml = 'Like what you see? Visit the ' +\n",
              "            '<a target=\"_blank\" href=https://colab.research.google.com/notebooks/data_table.ipynb>data table notebook</a>'\n",
              "            + ' to learn more about interactive tables.';\n",
              "          element.innerHTML = '';\n",
              "          dataTable['output_type'] = 'display_data';\n",
              "          await google.colab.output.renderOutput(dataTable, element);\n",
              "          const docLink = document.createElement('div');\n",
              "          docLink.innerHTML = docLinkHtml;\n",
              "          element.appendChild(docLink);\n",
              "        }\n",
              "      </script>\n",
              "    </div>\n",
              "  </div>\n",
              "  "
            ]
          },
          "metadata": {},
          "execution_count": 6
        }
      ]
    },
    {
      "cell_type": "code",
      "source": [
        "# 刪掉最新一筆委託單\n",
        "sdk.cancel_order(orderResult[0])"
      ],
      "metadata": {
        "id": "MKJX-IGMoRD3",
        "colab": {
          "base_uri": "https://localhost:8080/"
        },
        "outputId": "1405c30a-649e-4687-90f2-63f9a74ba283"
      },
      "execution_count": 7,
      "outputs": [
        {
          "output_type": "execute_result",
          "data": {
            "text/plain": [
              "{'ordDate': '20220315',\n",
              " 'ordTime': '162701463',\n",
              " 'retcode': '000000',\n",
              " 'retmsg': ''}"
            ]
          },
          "metadata": {},
          "execution_count": 7
        }
      ]
    },
    {
      "cell_type": "markdown",
      "source": [
        "# 簡易策略 demo code"
      ],
      "metadata": {
        "id": "HDYu04CkrN5Z"
      }
    },
    {
      "cell_type": "code",
      "source": [
        "# 安裝相關套件\n",
        "import requests\n",
        "import numpy as np\n",
        "import pandas as pd\n",
        "import datetime\n",
        "import time"
      ],
      "metadata": {
        "id": "CPiTryxqrEWT"
      },
      "execution_count": 8,
      "outputs": []
    },
    {
      "cell_type": "code",
      "source": [
        "# 取得正式環境設定檔並登入\n",
        "\n",
        "config = ConfigParser()\n",
        "\n",
        "config.read('./config.ini')\n",
        "\n",
        "sdk = SDK(config)\n",
        "\n",
        "sdk.login()"
      ],
      "metadata": {
        "id": "g0557wa-pOiz"
      },
      "execution_count": 9,
      "outputs": []
    },
    {
      "cell_type": "code",
      "source": [
        "# 將 行情 API 自訂 function 方便後續使用\n",
        "\n",
        "def fugle_realtime_api(apiType, symbolId, apiToken):\n",
        "\n",
        "    # 連結 fugle realtime API 取得最新數據 \n",
        "    api_path = f\"https://api.fugle.tw/realtime/v0.3/intraday/{apiType}?symbolId={symbolId}&apiToken={apiToken}\"\n",
        "\n",
        "    price_col = requests.get(api_path)\n",
        "\n",
        "    price_data = price_col.json()['data'][apiType]\n",
        "\n",
        "    return price_data\n"
      ],
      "metadata": {
        "id": "IJMnr3sgzPYa"
      },
      "execution_count": 10,
      "outputs": []
    },
    {
      "cell_type": "markdown",
      "source": [
        "## 觸量下單 demo\n",
        "\n"
      ],
      "metadata": {
        "id": "UruARLID1F1A"
      }
    },
    {
      "cell_type": "markdown",
      "source": [
        "策略描述：<br>\n",
        "盤中突然的大單，可以反映大戶的交易意願提升，而外盤成交代表買方願意用比較高的價格買，代表有較強烈的買進意圖<br>\n",
        "因此這裡建構一個簡單的策略：當最新一筆成交是外盤成交，且成交量是前一筆的 10 倍以上就跟！"
      ],
      "metadata": {
        "id": "qZFqxoqHH7QW"
      }
    },
    {
      "cell_type": "code",
      "source": [
        "## set parameter\n",
        "\n",
        "# 輸入股票代碼\n",
        "symbolId = \"2884\"\n",
        "\n",
        "# 請輸入自己的 apiToken\n",
        "apiToken = \"demo\"\n",
        "\n",
        "#下單張數\n",
        "tradingVolume = 10\n",
        "\n",
        "#----------------------------------\n",
        "while True:  \n",
        "\n",
        "    # 從 dealts API 取得最新兩筆成交明細數據 \n",
        "    price_data = fugle_realtime_api('dealts',symbolId, apiToken)[:5]\n",
        "\n",
        "    \n",
        "    #策略條件：最新一筆成交量 大於等於 前一筆成交量的10倍 且為外盤成交\n",
        "    if (price_data[0]['volume'] >= price_data[1]['volume']*10) and (price_data[0]['ask'] <= price_data[0]['price']):\n",
        "\n",
        "        # 委託資訊\n",
        "        order = OrderObject(\n",
        "            apCode = APCode.Common,# 盤別\n",
        "            buySell = Action.Buy,\n",
        "            priceFlag= PriceFlag.LimitDown, # 跌停價買進\n",
        "            price = None,\n",
        "            stockNo = str(symbolId),\n",
        "            quantity = tradingVolume,\n",
        "        )\n",
        "\n",
        "        # 送下單委託\n",
        "        sdk.place_order(order)\n",
        "        \n",
        "        print('成功送出委託')\n",
        "        print(f'買進張數：{tradingVolume} 張')\n",
        "\n",
        "        break\n",
        "        \n",
        "    else:\n",
        "        print(f\"最新成交量 {str(price_data[0]['volume'])} 張\")\n",
        "        print(f'外盤成交：',str(price_data[0]['ask'] <= price_data[0]['price']))\n",
        "        print('未達買進條件!')\n",
        "        print('---')\n"
      ],
      "metadata": {
        "colab": {
          "base_uri": "https://localhost:8080/"
        },
        "id": "jPcYEe6M065q",
        "outputId": "47674362-12b6-489c-e63d-22767c596057"
      },
      "execution_count": 11,
      "outputs": [
        {
          "output_type": "stream",
          "name": "stdout",
          "text": [
            "成功送出委託\n",
            "買進張數：10 張\n"
          ]
        }
      ]
    },
    {
      "cell_type": "code",
      "source": [
        "# 查看委託回報\n",
        "sdk.login()\n",
        "orderResult = sdk.get_order_results()\n",
        "print(orderResult[0])"
      ],
      "metadata": {
        "colab": {
          "base_uri": "https://localhost:8080/"
        },
        "outputId": "e46f818b-5b7b-4763-ad58-190984e279aa",
        "id": "5OirgshwCrpY"
      },
      "execution_count": 12,
      "outputs": [
        {
          "output_type": "stream",
          "name": "stdout",
          "text": [
            "{'market': 'T', 'workdate': '20220316', 'orddate': '20220315', 'ordtime': '162730367', 'syscode': 'FA', 'ordstatus': '1', 'ordno': '', 'preordno': 'P0B8666Z', 'stockno': '2884', 'buysell': 'B', 'apcode': '1', 'priceflag': '2', 'trade': '0', 'odprice': '0.0', 'orgqty': 10, 'matqty': 0, 'celqty': 0, 'celable': '1', 'errcode': '00000000', 'errmsg': '', 'avgPrice': '0', 'chgtime': '162730367', 'chgdate': '20220315', 'bsFlag': 'R', 'orgqty_share': 10000, 'matqty_share': 0, 'celqty_share': 0}\n"
          ]
        }
      ]
    },
    {
      "cell_type": "code",
      "source": [
        "# 刪掉第 0 筆單\n",
        "sdk.cancel_order(orderResult[0])"
      ],
      "metadata": {
        "id": "bbLvSptzCxzb",
        "colab": {
          "base_uri": "https://localhost:8080/"
        },
        "outputId": "5f51a382-8ab3-4a38-e9cf-8a7333abf153"
      },
      "execution_count": 13,
      "outputs": [
        {
          "output_type": "execute_result",
          "data": {
            "text/plain": [
              "{'ordDate': '20220315',\n",
              " 'ordTime': '162748728',\n",
              " 'retcode': '000000',\n",
              " 'retmsg': ''}"
            ]
          },
          "metadata": {},
          "execution_count": 13
        }
      ]
    },
    {
      "cell_type": "code",
      "source": [
        ""
      ],
      "metadata": {
        "id": "WI5KyndesLxw"
      },
      "execution_count": null,
      "outputs": []
    }
  ]
}
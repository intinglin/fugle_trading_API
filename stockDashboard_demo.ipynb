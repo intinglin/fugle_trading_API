{
 "cells": [
  {
   "cell_type": "markdown",
   "metadata": {
    "toc": true
   },
   "source": [
    "<h1>Table of Contents<span class=\"tocSkip\"></span></h1>\n",
    "<div class=\"toc\"><ul class=\"toc-item\"><li><span><a href=\"#安裝套件\" data-toc-modified-id=\"安裝套件-1\"><span class=\"toc-item-num\">1&nbsp;&nbsp;</span>安裝套件</a></span></li><li><span><a href=\"#define-function\" data-toc-modified-id=\"define-function-2\"><span class=\"toc-item-num\">2&nbsp;&nbsp;</span>define function</a></span><ul class=\"toc-item\"><li><span><a href=\"#何謂深度擺盤？\" data-toc-modified-id=\"何謂深度擺盤？-2.1\"><span class=\"toc-item-num\">2.1&nbsp;&nbsp;</span>何謂深度擺盤？</a></span></li></ul></li><li><span><a href=\"#Demo\" data-toc-modified-id=\"Demo-3\"><span class=\"toc-item-num\">3&nbsp;&nbsp;</span>Demo</a></span></li></ul></div>"
   ]
  },
  {
   "cell_type": "markdown",
   "metadata": {},
   "source": [
    "# 安裝套件"
   ]
  },
  {
   "cell_type": "code",
   "execution_count": 4,
   "metadata": {
    "ExecuteTime": {
     "end_time": "2022-03-17T06:32:39.911693Z",
     "start_time": "2022-03-17T06:32:39.528228Z"
    }
   },
   "outputs": [],
   "source": [
    "#安裝相關套件\n",
    "import math\n",
    "import pandas as pd\n",
    "import requests\n",
    "import threading\n",
    "import schedule\n",
    "import sys\n",
    "import datetime\n",
    "\n",
    "# 安裝視覺化套件\n",
    "import dash\n",
    "import dash_core_components as dcc\n",
    "import dash_html_components as html\n",
    "import plotly.graph_objs as go\n",
    "from dash.dependencies import Input, Output\n",
    "from plotly.subplots import make_subplots\n"
   ]
  },
  {
   "cell_type": "markdown",
   "metadata": {},
   "source": [
    "# define function"
   ]
  },
  {
   "cell_type": "code",
   "execution_count": 5,
   "metadata": {
    "ExecuteTime": {
     "end_time": "2022-03-17T06:32:39.920373Z",
     "start_time": "2022-03-17T06:32:39.913668Z"
    }
   },
   "outputs": [],
   "source": [
    "# 透過 meta API 取得個股基本資訊\n",
    "\n",
    "def transfer_symbolName(symbolId,apiToken):\n",
    "    \n",
    "    meta_query = requests.get(f'https://api.fugle.tw/realtime/v0.3/intraday/meta?symbolId={str(symbolId)}&apiToken={apiToken}')\n",
    " \n",
    "    symbol_name = meta_query.json()['data']['meta']['nameZhTw']\n",
    "    \n",
    "    return symbol_name\n",
    "\n"
   ]
  },
  {
   "cell_type": "markdown",
   "metadata": {},
   "source": [
    "## 何謂深度擺盤？"
   ]
  },
  {
   "cell_type": "markdown",
   "metadata": {},
   "source": [
    "「深度擺盤」簡單來說就是當您想要推升一檔股票到某個價位時，直接幫您計算出可能需要準備多少資金，才能進行推價操作。"
   ]
  },
  {
   "cell_type": "code",
   "execution_count": null,
   "metadata": {},
   "outputs": [],
   "source": [
    "# 深度擺盤計算\n",
    "\n",
    "def transfer_cumVolume(asks_data, bids_data):\n",
    "    \n",
    "    new_asks_list = []\n",
    "    new_bids_list = []\n",
    "\n",
    "    asks_volume_data = bids_volume_data = asks_amount_data = bids_amount_data = 0\n",
    "\n",
    "    for i in range(len(asks_data)):\n",
    "\n",
    "        asks_price_data = asks_data[i]['price']\n",
    "        asks_volume_data += asks_data[i]['volume']\n",
    "        asks_amount_data += asks_data[i]['price']*asks_data[i]['volume']/10 #萬元\n",
    "\n",
    "        bids_price_data = bids_data[i]['price']\n",
    "        bids_volume_data += bids_data[i]['volume']\n",
    "        bids_amount_data += bids_data[i]['price']*bids_data[i]['volume']/10 #萬元\n",
    "\n",
    "\n",
    "        new_asks_list.append({'price':asks_price_data, 'volume':asks_volume_data ,'amount': asks_amount_data})\n",
    "\n",
    "        new_bids_list.append({'price':bids_price_data, 'volume':bids_volume_data, 'amount': bids_amount_data})\n",
    "    \n",
    "    return new_asks_list, new_bids_list\n"
   ]
  },
  {
   "cell_type": "markdown",
   "metadata": {},
   "source": [
    "# Demo"
   ]
  },
  {
   "cell_type": "code",
   "execution_count": 8,
   "metadata": {
    "ExecuteTime": {
     "end_time": "2022-03-17T06:34:28.095897Z",
     "start_time": "2022-03-17T06:34:28.093305Z"
    }
   },
   "outputs": [],
   "source": [
    "apiToken = 'demo' # 輸入您的 Token"
   ]
  },
  {
   "cell_type": "code",
   "execution_count": 9,
   "metadata": {
    "ExecuteTime": {
     "end_time": "2022-03-17T06:38:36.581900Z",
     "start_time": "2022-03-17T06:34:28.687009Z"
    }
   },
   "outputs": [
    {
     "name": "stdout",
     "output_type": "stream",
     "text": [
      " * Serving Flask app \"__main__\" (lazy loading)\n",
      " * Environment: production\n",
      "\u001b[31m   WARNING: This is a development server. Do not use it in a production deployment.\u001b[0m\n",
      "\u001b[2m   Use a production WSGI server instead.\u001b[0m\n",
      " * Debug mode: off\n"
     ]
    },
    {
     "name": "stderr",
     "output_type": "stream",
     "text": [
      " * Running on http://0.0.0.0:8053/ (Press CTRL+C to quit)\n",
      "220.135.2.3 - - [17/Mar/2022 14:34:29] \"\u001b[37mPOST /_dash-update-component HTTP/1.1\u001b[0m\" 200 -\n"
     ]
    },
    {
     "name": "stdout",
     "output_type": "stream",
     "text": [
      "更新資料中...\n",
      "Exception on /_dash-update-component [POST]\n",
      "Traceback (most recent call last):\n",
      "  File \"/home/alanlin/anaconda3/lib/python3.8/site-packages/flask/app.py\", line 2447, in wsgi_app\n",
      "    response = self.full_dispatch_request()\n",
      "  File \"/home/alanlin/anaconda3/lib/python3.8/site-packages/flask/app.py\", line 1952, in full_dispatch_request\n",
      "    rv = self.handle_user_exception(e)\n",
      "  File \"/home/alanlin/anaconda3/lib/python3.8/site-packages/flask/app.py\", line 1821, in handle_user_exception\n",
      "    reraise(exc_type, exc_value, tb)\n",
      "  File \"/home/alanlin/anaconda3/lib/python3.8/site-packages/flask/_compat.py\", line 39, in reraise\n",
      "    raise value\n",
      "  File \"/home/alanlin/anaconda3/lib/python3.8/site-packages/flask/app.py\", line 1950, in full_dispatch_request\n",
      "    rv = self.dispatch_request()\n",
      "  File \"/home/alanlin/anaconda3/lib/python3.8/site-packages/flask/app.py\", line 1936, in dispatch_request\n",
      "    return self.view_functions[rule.endpoint](**req.view_args)\n",
      "  File \"/home/alanlin/.local/lib/python3.8/site-packages/dash/dash.py\", line 1461, in dispatch\n",
      "    response.set_data(self.callback_map[output][\"callback\"](*args))\n",
      "  File \"/home/alanlin/.local/lib/python3.8/site-packages/dash/dash.py\", line 1341, in add_context\n",
      "    output_value = func(*args, **kwargs)  # %% callback invoked %%\n",
      "  File \"<ipython-input-9-ecfeb510e6ce>\", line 60, in get_figure\n",
      "    dealts_data = pd.DataFrame(dealts_col.json()['data']['dealts'])\n",
      "KeyError: 'data'\n",
      "Exception on /_dash-update-component [POST]\n",
      "Traceback (most recent call last):\n",
      "  File \"/home/alanlin/anaconda3/lib/python3.8/site-packages/flask/app.py\", line 2447, in wsgi_app\n",
      "    response = self.full_dispatch_request()\n",
      "  File \"/home/alanlin/anaconda3/lib/python3.8/site-packages/flask/app.py\", line 1952, in full_dispatch_request\n",
      "    rv = self.handle_user_exception(e)\n",
      "  File \"/home/alanlin/anaconda3/lib/python3.8/site-packages/flask/app.py\", line 1821, in handle_user_exception\n",
      "    reraise(exc_type, exc_value, tb)\n",
      "  File \"/home/alanlin/anaconda3/lib/python3.8/site-packages/flask/_compat.py\", line 39, in reraise\n",
      "    raise value\n",
      "  File \"/home/alanlin/anaconda3/lib/python3.8/site-packages/flask/app.py\", line 1950, in full_dispatch_request\n",
      "    rv = self.dispatch_request()\n",
      "  File \"/home/alanlin/anaconda3/lib/python3.8/site-packages/flask/app.py\", line 1936, in dispatch_request\n",
      "    return self.view_functions[rule.endpoint](**req.view_args)\n",
      "  File \"/home/alanlin/.local/lib/python3.8/site-packages/dash/dash.py\", line 1461, in dispatch\n",
      "    response.set_data(self.callback_map[output][\"callback\"](*args))\n",
      "  File \"/home/alanlin/.local/lib/python3.8/site-packages/dash/dash.py\", line 1341, in add_context\n",
      "    output_value = func(*args, **kwargs)  # %% callback invoked %%\n",
      "  File \"<ipython-input-9-ecfeb510e6ce>\", line 60, in get_figure\n",
      "    dealts_data = pd.DataFrame(dealts_col.json()['data']['dealts'])\n",
      "KeyError: 'data'\n"
     ]
    },
    {
     "name": "stderr",
     "output_type": "stream",
     "text": [
      "220.135.2.3 - - [17/Mar/2022 14:34:29] \"\u001b[35m\u001b[1mPOST /_dash-update-component HTTP/1.1\u001b[0m\" 500 -\n",
      "220.135.2.3 - - [17/Mar/2022 14:34:32] \"\u001b[37mPOST /_dash-update-component HTTP/1.1\u001b[0m\" 200 -\n"
     ]
    },
    {
     "name": "stdout",
     "output_type": "stream",
     "text": [
      "更新資料中...\n",
      "Exception on /_dash-update-component [POST]\n",
      "Traceback (most recent call last):\n",
      "  File \"/home/alanlin/anaconda3/lib/python3.8/site-packages/flask/app.py\", line 2447, in wsgi_app\n",
      "    response = self.full_dispatch_request()\n",
      "  File \"/home/alanlin/anaconda3/lib/python3.8/site-packages/flask/app.py\", line 1952, in full_dispatch_request\n",
      "    rv = self.handle_user_exception(e)\n",
      "  File \"/home/alanlin/anaconda3/lib/python3.8/site-packages/flask/app.py\", line 1821, in handle_user_exception\n",
      "    reraise(exc_type, exc_value, tb)\n",
      "  File \"/home/alanlin/anaconda3/lib/python3.8/site-packages/flask/_compat.py\", line 39, in reraise\n",
      "    raise value\n",
      "  File \"/home/alanlin/anaconda3/lib/python3.8/site-packages/flask/app.py\", line 1950, in full_dispatch_request\n",
      "    rv = self.dispatch_request()\n",
      "  File \"/home/alanlin/anaconda3/lib/python3.8/site-packages/flask/app.py\", line 1936, in dispatch_request\n",
      "    return self.view_functions[rule.endpoint](**req.view_args)\n",
      "  File \"/home/alanlin/.local/lib/python3.8/site-packages/dash/dash.py\", line 1461, in dispatch\n",
      "    response.set_data(self.callback_map[output][\"callback\"](*args))\n",
      "  File \"/home/alanlin/.local/lib/python3.8/site-packages/dash/dash.py\", line 1341, in add_context\n",
      "    output_value = func(*args, **kwargs)  # %% callback invoked %%\n",
      "  File \"<ipython-input-9-ecfeb510e6ce>\", line 60, in get_figure\n",
      "    dealts_data = pd.DataFrame(dealts_col.json()['data']['dealts'])\n",
      "KeyError: 'data'\n",
      "Exception on /_dash-update-component [POST]\n",
      "Traceback (most recent call last):\n",
      "  File \"/home/alanlin/anaconda3/lib/python3.8/site-packages/flask/app.py\", line 2447, in wsgi_app\n",
      "    response = self.full_dispatch_request()\n",
      "  File \"/home/alanlin/anaconda3/lib/python3.8/site-packages/flask/app.py\", line 1952, in full_dispatch_request\n",
      "    rv = self.handle_user_exception(e)\n",
      "  File \"/home/alanlin/anaconda3/lib/python3.8/site-packages/flask/app.py\", line 1821, in handle_user_exception\n",
      "    reraise(exc_type, exc_value, tb)\n",
      "  File \"/home/alanlin/anaconda3/lib/python3.8/site-packages/flask/_compat.py\", line 39, in reraise\n",
      "    raise value\n",
      "  File \"/home/alanlin/anaconda3/lib/python3.8/site-packages/flask/app.py\", line 1950, in full_dispatch_request\n",
      "    rv = self.dispatch_request()\n",
      "  File \"/home/alanlin/anaconda3/lib/python3.8/site-packages/flask/app.py\", line 1936, in dispatch_request\n",
      "    return self.view_functions[rule.endpoint](**req.view_args)\n",
      "  File \"/home/alanlin/.local/lib/python3.8/site-packages/dash/dash.py\", line 1461, in dispatch\n",
      "    response.set_data(self.callback_map[output][\"callback\"](*args))\n",
      "  File \"/home/alanlin/.local/lib/python3.8/site-packages/dash/dash.py\", line 1341, in add_context\n",
      "    output_value = func(*args, **kwargs)  # %% callback invoked %%\n",
      "  File \"<ipython-input-9-ecfeb510e6ce>\", line 60, in get_figure\n",
      "    dealts_data = pd.DataFrame(dealts_col.json()['data']['dealts'])\n",
      "KeyError: 'data'\n"
     ]
    },
    {
     "name": "stderr",
     "output_type": "stream",
     "text": [
      "220.135.2.3 - - [17/Mar/2022 14:34:32] \"\u001b[35m\u001b[1mPOST /_dash-update-component HTTP/1.1\u001b[0m\" 500 -\n",
      "220.135.2.3 - - [17/Mar/2022 14:34:35] \"\u001b[37mPOST /_dash-update-component HTTP/1.1\u001b[0m\" 200 -\n"
     ]
    },
    {
     "name": "stdout",
     "output_type": "stream",
     "text": [
      "更新資料中...\n",
      "Exception on /_dash-update-component [POST]\n",
      "Traceback (most recent call last):\n",
      "  File \"/home/alanlin/anaconda3/lib/python3.8/site-packages/flask/app.py\", line 2447, in wsgi_app\n",
      "    response = self.full_dispatch_request()\n",
      "  File \"/home/alanlin/anaconda3/lib/python3.8/site-packages/flask/app.py\", line 1952, in full_dispatch_request\n",
      "    rv = self.handle_user_exception(e)\n",
      "  File \"/home/alanlin/anaconda3/lib/python3.8/site-packages/flask/app.py\", line 1821, in handle_user_exception\n",
      "    reraise(exc_type, exc_value, tb)\n",
      "  File \"/home/alanlin/anaconda3/lib/python3.8/site-packages/flask/_compat.py\", line 39, in reraise\n",
      "    raise value\n",
      "  File \"/home/alanlin/anaconda3/lib/python3.8/site-packages/flask/app.py\", line 1950, in full_dispatch_request\n",
      "    rv = self.dispatch_request()\n",
      "  File \"/home/alanlin/anaconda3/lib/python3.8/site-packages/flask/app.py\", line 1936, in dispatch_request\n",
      "    return self.view_functions[rule.endpoint](**req.view_args)\n",
      "  File \"/home/alanlin/.local/lib/python3.8/site-packages/dash/dash.py\", line 1461, in dispatch\n",
      "    response.set_data(self.callback_map[output][\"callback\"](*args))\n",
      "  File \"/home/alanlin/.local/lib/python3.8/site-packages/dash/dash.py\", line 1341, in add_context\n",
      "    output_value = func(*args, **kwargs)  # %% callback invoked %%\n",
      "  File \"<ipython-input-9-ecfeb510e6ce>\", line 60, in get_figure\n",
      "    dealts_data = pd.DataFrame(dealts_col.json()['data']['dealts'])\n",
      "KeyError: 'data'\n",
      "Exception on /_dash-update-component [POST]\n",
      "Traceback (most recent call last):\n",
      "  File \"/home/alanlin/anaconda3/lib/python3.8/site-packages/flask/app.py\", line 2447, in wsgi_app\n",
      "    response = self.full_dispatch_request()\n",
      "  File \"/home/alanlin/anaconda3/lib/python3.8/site-packages/flask/app.py\", line 1952, in full_dispatch_request\n",
      "    rv = self.handle_user_exception(e)\n",
      "  File \"/home/alanlin/anaconda3/lib/python3.8/site-packages/flask/app.py\", line 1821, in handle_user_exception\n",
      "    reraise(exc_type, exc_value, tb)\n",
      "  File \"/home/alanlin/anaconda3/lib/python3.8/site-packages/flask/_compat.py\", line 39, in reraise\n",
      "    raise value\n",
      "  File \"/home/alanlin/anaconda3/lib/python3.8/site-packages/flask/app.py\", line 1950, in full_dispatch_request\n",
      "    rv = self.dispatch_request()\n",
      "  File \"/home/alanlin/anaconda3/lib/python3.8/site-packages/flask/app.py\", line 1936, in dispatch_request\n",
      "    return self.view_functions[rule.endpoint](**req.view_args)\n",
      "  File \"/home/alanlin/.local/lib/python3.8/site-packages/dash/dash.py\", line 1461, in dispatch\n",
      "    response.set_data(self.callback_map[output][\"callback\"](*args))\n",
      "  File \"/home/alanlin/.local/lib/python3.8/site-packages/dash/dash.py\", line 1341, in add_context\n",
      "    output_value = func(*args, **kwargs)  # %% callback invoked %%\n",
      "  File \"<ipython-input-9-ecfeb510e6ce>\", line 60, in get_figure\n",
      "    dealts_data = pd.DataFrame(dealts_col.json()['data']['dealts'])\n",
      "KeyError: 'data'\n"
     ]
    },
    {
     "name": "stderr",
     "output_type": "stream",
     "text": [
      "220.135.2.3 - - [17/Mar/2022 14:34:35] \"\u001b[35m\u001b[1mPOST /_dash-update-component HTTP/1.1\u001b[0m\" 500 -\n",
      "220.135.2.3 - - [17/Mar/2022 14:34:38] \"\u001b[37mGET / HTTP/1.1\u001b[0m\" 200 -\n",
      "220.135.2.3 - - [17/Mar/2022 14:34:38] \"\u001b[37mPOST /_dash-update-component HTTP/1.1\u001b[0m\" 200 -\n"
     ]
    },
    {
     "name": "stdout",
     "output_type": "stream",
     "text": [
      "更新資料中...\n",
      "Exception on /_dash-update-component [POST]\n",
      "Traceback (most recent call last):\n",
      "  File \"/home/alanlin/anaconda3/lib/python3.8/site-packages/flask/app.py\", line 2447, in wsgi_app\n",
      "    response = self.full_dispatch_request()\n",
      "  File \"/home/alanlin/anaconda3/lib/python3.8/site-packages/flask/app.py\", line 1952, in full_dispatch_request\n",
      "    rv = self.handle_user_exception(e)\n",
      "  File \"/home/alanlin/anaconda3/lib/python3.8/site-packages/flask/app.py\", line 1821, in handle_user_exception\n",
      "    reraise(exc_type, exc_value, tb)\n",
      "  File \"/home/alanlin/anaconda3/lib/python3.8/site-packages/flask/_compat.py\", line 39, in reraise\n",
      "    raise value\n",
      "  File \"/home/alanlin/anaconda3/lib/python3.8/site-packages/flask/app.py\", line 1950, in full_dispatch_request\n",
      "    rv = self.dispatch_request()\n",
      "  File \"/home/alanlin/anaconda3/lib/python3.8/site-packages/flask/app.py\", line 1936, in dispatch_request\n",
      "    return self.view_functions[rule.endpoint](**req.view_args)\n",
      "  File \"/home/alanlin/.local/lib/python3.8/site-packages/dash/dash.py\", line 1461, in dispatch\n",
      "    response.set_data(self.callback_map[output][\"callback\"](*args))\n",
      "  File \"/home/alanlin/.local/lib/python3.8/site-packages/dash/dash.py\", line 1341, in add_context\n",
      "    output_value = func(*args, **kwargs)  # %% callback invoked %%\n",
      "  File \"<ipython-input-9-ecfeb510e6ce>\", line 60, in get_figure\n",
      "    dealts_data = pd.DataFrame(dealts_col.json()['data']['dealts'])\n",
      "KeyError: 'data'\n",
      "Exception on /_dash-update-component [POST]\n",
      "Traceback (most recent call last):\n",
      "  File \"/home/alanlin/anaconda3/lib/python3.8/site-packages/flask/app.py\", line 2447, in wsgi_app\n",
      "    response = self.full_dispatch_request()\n",
      "  File \"/home/alanlin/anaconda3/lib/python3.8/site-packages/flask/app.py\", line 1952, in full_dispatch_request\n",
      "    rv = self.handle_user_exception(e)\n",
      "  File \"/home/alanlin/anaconda3/lib/python3.8/site-packages/flask/app.py\", line 1821, in handle_user_exception\n",
      "    reraise(exc_type, exc_value, tb)\n",
      "  File \"/home/alanlin/anaconda3/lib/python3.8/site-packages/flask/_compat.py\", line 39, in reraise\n",
      "    raise value\n",
      "  File \"/home/alanlin/anaconda3/lib/python3.8/site-packages/flask/app.py\", line 1950, in full_dispatch_request\n",
      "    rv = self.dispatch_request()\n",
      "  File \"/home/alanlin/anaconda3/lib/python3.8/site-packages/flask/app.py\", line 1936, in dispatch_request\n",
      "    return self.view_functions[rule.endpoint](**req.view_args)\n",
      "  File \"/home/alanlin/.local/lib/python3.8/site-packages/dash/dash.py\", line 1461, in dispatch\n",
      "    response.set_data(self.callback_map[output][\"callback\"](*args))\n",
      "  File \"/home/alanlin/.local/lib/python3.8/site-packages/dash/dash.py\", line 1341, in add_context\n",
      "    output_value = func(*args, **kwargs)  # %% callback invoked %%\n",
      "  File \"<ipython-input-9-ecfeb510e6ce>\", line 60, in get_figure\n",
      "    dealts_data = pd.DataFrame(dealts_col.json()['data']['dealts'])\n",
      "KeyError: 'data'\n"
     ]
    },
    {
     "name": "stderr",
     "output_type": "stream",
     "text": [
      "220.135.2.3 - - [17/Mar/2022 14:34:38] \"\u001b[35m\u001b[1mPOST /_dash-update-component HTTP/1.1\u001b[0m\" 500 -\n",
      "220.135.2.3 - - [17/Mar/2022 14:34:38] \"\u001b[37mGET /_dash-dependencies HTTP/1.1\u001b[0m\" 200 -\n",
      "220.135.2.3 - - [17/Mar/2022 14:34:38] \"\u001b[37mGET /_dash-layout HTTP/1.1\u001b[0m\" 200 -\n",
      "220.135.2.3 - - [17/Mar/2022 14:34:38] \"\u001b[37mGET /_favicon.ico?v=1.9.1 HTTP/1.1\u001b[0m\" 200 -\n",
      "220.135.2.3 - - [17/Mar/2022 14:34:39] \"\u001b[37mPOST /_dash-update-component HTTP/1.1\u001b[0m\" 200 -\n",
      "220.135.2.3 - - [17/Mar/2022 14:34:39] \"\u001b[37mPOST /_dash-update-component HTTP/1.1\u001b[0m\" 200 -\n"
     ]
    },
    {
     "name": "stdout",
     "output_type": "stream",
     "text": [
      "更新資料中...\n",
      "更新完成\n"
     ]
    },
    {
     "name": "stderr",
     "output_type": "stream",
     "text": [
      "220.135.2.3 - - [17/Mar/2022 14:34:42] \"\u001b[37mPOST /_dash-update-component HTTP/1.1\u001b[0m\" 200 -\n",
      "220.135.2.3 - - [17/Mar/2022 14:34:42] \"\u001b[37mPOST /_dash-update-component HTTP/1.1\u001b[0m\" 200 -\n"
     ]
    },
    {
     "name": "stdout",
     "output_type": "stream",
     "text": [
      "更新資料中...\n",
      "更新完成\n"
     ]
    },
    {
     "name": "stderr",
     "output_type": "stream",
     "text": [
      "220.135.2.3 - - [17/Mar/2022 14:34:45] \"\u001b[37mPOST /_dash-update-component HTTP/1.1\u001b[0m\" 200 -\n",
      "220.135.2.3 - - [17/Mar/2022 14:34:45] \"\u001b[37mPOST /_dash-update-component HTTP/1.1\u001b[0m\" 200 -\n"
     ]
    },
    {
     "name": "stdout",
     "output_type": "stream",
     "text": [
      "更新資料中...\n",
      "更新完成\n"
     ]
    },
    {
     "name": "stderr",
     "output_type": "stream",
     "text": [
      "220.135.2.3 - - [17/Mar/2022 14:34:48] \"\u001b[37mPOST /_dash-update-component HTTP/1.1\u001b[0m\" 200 -\n",
      "220.135.2.3 - - [17/Mar/2022 14:34:48] \"\u001b[37mPOST /_dash-update-component HTTP/1.1\u001b[0m\" 200 -\n"
     ]
    },
    {
     "name": "stdout",
     "output_type": "stream",
     "text": [
      "更新資料中...\n",
      "更新完成\n"
     ]
    },
    {
     "name": "stderr",
     "output_type": "stream",
     "text": [
      "220.135.2.3 - - [17/Mar/2022 14:34:51] \"\u001b[37mPOST /_dash-update-component HTTP/1.1\u001b[0m\" 200 -\n",
      "220.135.2.3 - - [17/Mar/2022 14:34:51] \"\u001b[37mPOST /_dash-update-component HTTP/1.1\u001b[0m\" 200 -\n"
     ]
    },
    {
     "name": "stdout",
     "output_type": "stream",
     "text": [
      "更新資料中...\n",
      "更新完成\n"
     ]
    },
    {
     "name": "stderr",
     "output_type": "stream",
     "text": [
      "220.135.2.3 - - [17/Mar/2022 14:34:55] \"\u001b[37mPOST /_dash-update-component HTTP/1.1\u001b[0m\" 200 -\n",
      "220.135.2.3 - - [17/Mar/2022 14:34:55] \"\u001b[37mPOST /_dash-update-component HTTP/1.1\u001b[0m\" 200 -\n"
     ]
    },
    {
     "name": "stdout",
     "output_type": "stream",
     "text": [
      "更新資料中...\n",
      "更新完成\n"
     ]
    },
    {
     "name": "stderr",
     "output_type": "stream",
     "text": [
      "220.135.2.3 - - [17/Mar/2022 14:34:58] \"\u001b[37mPOST /_dash-update-component HTTP/1.1\u001b[0m\" 200 -\n"
     ]
    },
    {
     "name": "stdout",
     "output_type": "stream",
     "text": [
      "更新資料中...\n",
      "更新完成\n"
     ]
    },
    {
     "name": "stderr",
     "output_type": "stream",
     "text": [
      "220.135.2.3 - - [17/Mar/2022 14:34:58] \"\u001b[37mPOST /_dash-update-component HTTP/1.1\u001b[0m\" 200 -\n",
      "220.135.2.3 - - [17/Mar/2022 14:35:01] \"\u001b[37mPOST /_dash-update-component HTTP/1.1\u001b[0m\" 200 -\n",
      "220.135.2.3 - - [17/Mar/2022 14:35:01] \"\u001b[37mPOST /_dash-update-component HTTP/1.1\u001b[0m\" 200 -\n"
     ]
    },
    {
     "name": "stdout",
     "output_type": "stream",
     "text": [
      "更新資料中...\n",
      "更新完成\n"
     ]
    },
    {
     "name": "stderr",
     "output_type": "stream",
     "text": [
      "220.135.2.3 - - [17/Mar/2022 14:35:04] \"\u001b[37mPOST /_dash-update-component HTTP/1.1\u001b[0m\" 200 -\n",
      "220.135.2.3 - - [17/Mar/2022 14:35:04] \"\u001b[37mPOST /_dash-update-component HTTP/1.1\u001b[0m\" 200 -\n"
     ]
    },
    {
     "name": "stdout",
     "output_type": "stream",
     "text": [
      "更新資料中...\n",
      "更新完成\n"
     ]
    },
    {
     "name": "stderr",
     "output_type": "stream",
     "text": [
      "220.135.2.3 - - [17/Mar/2022 14:35:07] \"\u001b[37mPOST /_dash-update-component HTTP/1.1\u001b[0m\" 200 -\n",
      "220.135.2.3 - - [17/Mar/2022 14:35:07] \"\u001b[37mPOST /_dash-update-component HTTP/1.1\u001b[0m\" 200 -\n"
     ]
    },
    {
     "name": "stdout",
     "output_type": "stream",
     "text": [
      "更新資料中...\n",
      "更新完成\n"
     ]
    },
    {
     "name": "stderr",
     "output_type": "stream",
     "text": [
      "220.135.2.3 - - [17/Mar/2022 14:35:10] \"\u001b[37mPOST /_dash-update-component HTTP/1.1\u001b[0m\" 200 -\n",
      "220.135.2.3 - - [17/Mar/2022 14:35:10] \"\u001b[37mPOST /_dash-update-component HTTP/1.1\u001b[0m\" 200 -\n"
     ]
    },
    {
     "name": "stdout",
     "output_type": "stream",
     "text": [
      "更新資料中...\n",
      "更新完成\n"
     ]
    },
    {
     "name": "stderr",
     "output_type": "stream",
     "text": [
      "220.135.2.3 - - [17/Mar/2022 14:35:13] \"\u001b[37mPOST /_dash-update-component HTTP/1.1\u001b[0m\" 200 -\n",
      "220.135.2.3 - - [17/Mar/2022 14:35:13] \"\u001b[37mPOST /_dash-update-component HTTP/1.1\u001b[0m\" 200 -\n"
     ]
    },
    {
     "name": "stdout",
     "output_type": "stream",
     "text": [
      "更新資料中...\n",
      "更新完成\n"
     ]
    },
    {
     "name": "stderr",
     "output_type": "stream",
     "text": [
      "220.135.2.3 - - [17/Mar/2022 14:35:16] \"\u001b[37mPOST /_dash-update-component HTTP/1.1\u001b[0m\" 200 -\n",
      "220.135.2.3 - - [17/Mar/2022 14:35:16] \"\u001b[37mPOST /_dash-update-component HTTP/1.1\u001b[0m\" 200 -\n"
     ]
    },
    {
     "name": "stdout",
     "output_type": "stream",
     "text": [
      "更新資料中...\n",
      "更新完成\n"
     ]
    },
    {
     "name": "stderr",
     "output_type": "stream",
     "text": [
      "220.135.2.3 - - [17/Mar/2022 14:35:19] \"\u001b[37mPOST /_dash-update-component HTTP/1.1\u001b[0m\" 200 -\n",
      "220.135.2.3 - - [17/Mar/2022 14:35:19] \"\u001b[37mPOST /_dash-update-component HTTP/1.1\u001b[0m\" 200 -\n"
     ]
    },
    {
     "name": "stdout",
     "output_type": "stream",
     "text": [
      "更新資料中...\n",
      "更新完成\n"
     ]
    },
    {
     "name": "stderr",
     "output_type": "stream",
     "text": [
      "220.135.2.3 - - [17/Mar/2022 14:35:22] \"\u001b[37mPOST /_dash-update-component HTTP/1.1\u001b[0m\" 200 -\n",
      "220.135.2.3 - - [17/Mar/2022 14:35:22] \"\u001b[37mPOST /_dash-update-component HTTP/1.1\u001b[0m\" 200 -\n"
     ]
    },
    {
     "name": "stdout",
     "output_type": "stream",
     "text": [
      "更新資料中...\n",
      "更新完成\n"
     ]
    },
    {
     "name": "stderr",
     "output_type": "stream",
     "text": [
      "220.135.2.3 - - [17/Mar/2022 14:35:25] \"\u001b[37mPOST /_dash-update-component HTTP/1.1\u001b[0m\" 200 -\n",
      "220.135.2.3 - - [17/Mar/2022 14:35:25] \"\u001b[37mPOST /_dash-update-component HTTP/1.1\u001b[0m\" 200 -\n"
     ]
    },
    {
     "name": "stdout",
     "output_type": "stream",
     "text": [
      "更新資料中...\n",
      "更新完成\n"
     ]
    },
    {
     "name": "stderr",
     "output_type": "stream",
     "text": [
      "220.135.2.3 - - [17/Mar/2022 14:35:28] \"\u001b[37mPOST /_dash-update-component HTTP/1.1\u001b[0m\" 200 -\n",
      "220.135.2.3 - - [17/Mar/2022 14:35:28] \"\u001b[37mPOST /_dash-update-component HTTP/1.1\u001b[0m\" 200 -\n"
     ]
    },
    {
     "name": "stdout",
     "output_type": "stream",
     "text": [
      "更新資料中...\n",
      "更新完成\n"
     ]
    },
    {
     "name": "stderr",
     "output_type": "stream",
     "text": [
      "220.135.2.3 - - [17/Mar/2022 14:35:31] \"\u001b[37mPOST /_dash-update-component HTTP/1.1\u001b[0m\" 200 -\n",
      "220.135.2.3 - - [17/Mar/2022 14:35:31] \"\u001b[37mPOST /_dash-update-component HTTP/1.1\u001b[0m\" 200 -\n"
     ]
    },
    {
     "name": "stdout",
     "output_type": "stream",
     "text": [
      "更新資料中...\n",
      "更新完成\n"
     ]
    },
    {
     "name": "stderr",
     "output_type": "stream",
     "text": [
      "220.135.2.3 - - [17/Mar/2022 14:35:34] \"\u001b[37mPOST /_dash-update-component HTTP/1.1\u001b[0m\" 200 -\n",
      "220.135.2.3 - - [17/Mar/2022 14:35:34] \"\u001b[37mPOST /_dash-update-component HTTP/1.1\u001b[0m\" 200 -\n"
     ]
    },
    {
     "name": "stdout",
     "output_type": "stream",
     "text": [
      "更新資料中...\n",
      "更新完成\n"
     ]
    },
    {
     "name": "stderr",
     "output_type": "stream",
     "text": [
      "220.135.2.3 - - [17/Mar/2022 14:35:37] \"\u001b[37mPOST /_dash-update-component HTTP/1.1\u001b[0m\" 200 -\n",
      "220.135.2.3 - - [17/Mar/2022 14:35:37] \"\u001b[37mPOST /_dash-update-component HTTP/1.1\u001b[0m\" 200 -\n"
     ]
    },
    {
     "name": "stdout",
     "output_type": "stream",
     "text": [
      "更新資料中...\n",
      "更新完成\n"
     ]
    },
    {
     "name": "stderr",
     "output_type": "stream",
     "text": [
      "220.135.2.3 - - [17/Mar/2022 14:35:40] \"\u001b[37mPOST /_dash-update-component HTTP/1.1\u001b[0m\" 200 -\n",
      "220.135.2.3 - - [17/Mar/2022 14:35:40] \"\u001b[37mPOST /_dash-update-component HTTP/1.1\u001b[0m\" 200 -\n"
     ]
    },
    {
     "name": "stdout",
     "output_type": "stream",
     "text": [
      "更新資料中...\n",
      "更新完成\n"
     ]
    },
    {
     "name": "stderr",
     "output_type": "stream",
     "text": [
      "220.135.2.3 - - [17/Mar/2022 14:35:42] \"\u001b[37mPOST /_dash-update-component HTTP/1.1\u001b[0m\" 200 -\n"
     ]
    },
    {
     "name": "stdout",
     "output_type": "stream",
     "text": [
      "更新資料中...\n",
      "更新完成\n"
     ]
    },
    {
     "name": "stderr",
     "output_type": "stream",
     "text": [
      "220.135.2.3 - - [17/Mar/2022 14:35:42] \"\u001b[37mPOST /_dash-update-component HTTP/1.1\u001b[0m\" 200 -\n",
      "220.135.2.3 - - [17/Mar/2022 14:35:45] \"\u001b[37mPOST /_dash-update-component HTTP/1.1\u001b[0m\" 200 -\n",
      "220.135.2.3 - - [17/Mar/2022 14:35:45] \"\u001b[37mPOST /_dash-update-component HTTP/1.1\u001b[0m\" 200 -\n"
     ]
    },
    {
     "name": "stdout",
     "output_type": "stream",
     "text": [
      "更新資料中...\n",
      "更新完成\n"
     ]
    },
    {
     "name": "stderr",
     "output_type": "stream",
     "text": [
      "220.135.2.3 - - [17/Mar/2022 14:35:49] \"\u001b[37mPOST /_dash-update-component HTTP/1.1\u001b[0m\" 200 -\n",
      "220.135.2.3 - - [17/Mar/2022 14:35:49] \"\u001b[37mPOST /_dash-update-component HTTP/1.1\u001b[0m\" 200 -\n"
     ]
    },
    {
     "name": "stdout",
     "output_type": "stream",
     "text": [
      "更新資料中...\n",
      "更新完成\n"
     ]
    },
    {
     "name": "stderr",
     "output_type": "stream",
     "text": [
      "220.135.2.3 - - [17/Mar/2022 14:35:52] \"\u001b[37mPOST /_dash-update-component HTTP/1.1\u001b[0m\" 200 -\n",
      "220.135.2.3 - - [17/Mar/2022 14:35:52] \"\u001b[37mPOST /_dash-update-component HTTP/1.1\u001b[0m\" 200 -\n"
     ]
    },
    {
     "name": "stdout",
     "output_type": "stream",
     "text": [
      "更新資料中...\n",
      "更新完成\n"
     ]
    },
    {
     "name": "stderr",
     "output_type": "stream",
     "text": [
      "220.135.2.3 - - [17/Mar/2022 14:35:55] \"\u001b[37mPOST /_dash-update-component HTTP/1.1\u001b[0m\" 200 -\n",
      "220.135.2.3 - - [17/Mar/2022 14:35:55] \"\u001b[37mPOST /_dash-update-component HTTP/1.1\u001b[0m\" 200 -\n"
     ]
    },
    {
     "name": "stdout",
     "output_type": "stream",
     "text": [
      "更新資料中...\n",
      "更新完成\n"
     ]
    },
    {
     "name": "stderr",
     "output_type": "stream",
     "text": [
      "220.135.2.3 - - [17/Mar/2022 14:35:58] \"\u001b[37mPOST /_dash-update-component HTTP/1.1\u001b[0m\" 200 -\n",
      "220.135.2.3 - - [17/Mar/2022 14:35:58] \"\u001b[37mPOST /_dash-update-component HTTP/1.1\u001b[0m\" 200 -\n"
     ]
    },
    {
     "name": "stdout",
     "output_type": "stream",
     "text": [
      "更新資料中...\n",
      "更新完成\n"
     ]
    },
    {
     "name": "stderr",
     "output_type": "stream",
     "text": [
      "220.135.2.3 - - [17/Mar/2022 14:36:01] \"\u001b[37mPOST /_dash-update-component HTTP/1.1\u001b[0m\" 200 -\n",
      "220.135.2.3 - - [17/Mar/2022 14:36:01] \"\u001b[37mPOST /_dash-update-component HTTP/1.1\u001b[0m\" 200 -\n"
     ]
    },
    {
     "name": "stdout",
     "output_type": "stream",
     "text": [
      "更新資料中...\n",
      "更新完成\n"
     ]
    },
    {
     "name": "stderr",
     "output_type": "stream",
     "text": [
      "220.135.2.3 - - [17/Mar/2022 14:36:04] \"\u001b[37mPOST /_dash-update-component HTTP/1.1\u001b[0m\" 200 -\n",
      "220.135.2.3 - - [17/Mar/2022 14:36:04] \"\u001b[37mPOST /_dash-update-component HTTP/1.1\u001b[0m\" 200 -\n"
     ]
    },
    {
     "name": "stdout",
     "output_type": "stream",
     "text": [
      "更新資料中...\n",
      "更新完成\n"
     ]
    },
    {
     "name": "stderr",
     "output_type": "stream",
     "text": [
      "220.135.2.3 - - [17/Mar/2022 14:36:07] \"\u001b[37mPOST /_dash-update-component HTTP/1.1\u001b[0m\" 200 -\n",
      "220.135.2.3 - - [17/Mar/2022 14:36:07] \"\u001b[37mPOST /_dash-update-component HTTP/1.1\u001b[0m\" 200 -\n"
     ]
    },
    {
     "name": "stdout",
     "output_type": "stream",
     "text": [
      "更新資料中...\n",
      "更新完成\n"
     ]
    },
    {
     "name": "stderr",
     "output_type": "stream",
     "text": [
      "220.135.2.3 - - [17/Mar/2022 14:36:10] \"\u001b[37mPOST /_dash-update-component HTTP/1.1\u001b[0m\" 200 -\n",
      "220.135.2.3 - - [17/Mar/2022 14:36:10] \"\u001b[37mPOST /_dash-update-component HTTP/1.1\u001b[0m\" 200 -\n"
     ]
    },
    {
     "name": "stdout",
     "output_type": "stream",
     "text": [
      "更新資料中...\n",
      "更新完成\n"
     ]
    },
    {
     "name": "stderr",
     "output_type": "stream",
     "text": [
      "220.135.2.3 - - [17/Mar/2022 14:36:13] \"\u001b[37mPOST /_dash-update-component HTTP/1.1\u001b[0m\" 200 -\n",
      "220.135.2.3 - - [17/Mar/2022 14:36:13] \"\u001b[37mPOST /_dash-update-component HTTP/1.1\u001b[0m\" 200 -\n"
     ]
    },
    {
     "name": "stdout",
     "output_type": "stream",
     "text": [
      "更新資料中...\n",
      "更新完成\n"
     ]
    },
    {
     "name": "stderr",
     "output_type": "stream",
     "text": [
      "220.135.2.3 - - [17/Mar/2022 14:36:16] \"\u001b[37mPOST /_dash-update-component HTTP/1.1\u001b[0m\" 200 -\n"
     ]
    },
    {
     "name": "stdout",
     "output_type": "stream",
     "text": [
      "更新資料中...\n",
      "更新完成\n"
     ]
    },
    {
     "name": "stderr",
     "output_type": "stream",
     "text": [
      "220.135.2.3 - - [17/Mar/2022 14:36:16] \"\u001b[37mPOST /_dash-update-component HTTP/1.1\u001b[0m\" 200 -\n",
      "220.135.2.3 - - [17/Mar/2022 14:36:19] \"\u001b[37mPOST /_dash-update-component HTTP/1.1\u001b[0m\" 200 -\n",
      "220.135.2.3 - - [17/Mar/2022 14:36:19] \"\u001b[37mPOST /_dash-update-component HTTP/1.1\u001b[0m\" 200 -\n"
     ]
    },
    {
     "name": "stdout",
     "output_type": "stream",
     "text": [
      "更新資料中...\n",
      "更新完成\n"
     ]
    },
    {
     "name": "stderr",
     "output_type": "stream",
     "text": [
      "220.135.2.3 - - [17/Mar/2022 14:36:22] \"\u001b[37mPOST /_dash-update-component HTTP/1.1\u001b[0m\" 200 -\n",
      "220.135.2.3 - - [17/Mar/2022 14:36:22] \"\u001b[37mPOST /_dash-update-component HTTP/1.1\u001b[0m\" 200 -\n"
     ]
    },
    {
     "name": "stdout",
     "output_type": "stream",
     "text": [
      "更新資料中...\n",
      "更新完成\n"
     ]
    },
    {
     "name": "stderr",
     "output_type": "stream",
     "text": [
      "220.135.2.3 - - [17/Mar/2022 14:36:25] \"\u001b[37mPOST /_dash-update-component HTTP/1.1\u001b[0m\" 200 -\n"
     ]
    },
    {
     "name": "stdout",
     "output_type": "stream",
     "text": [
      "更新資料中...\n"
     ]
    },
    {
     "name": "stderr",
     "output_type": "stream",
     "text": [
      "220.135.2.3 - - [17/Mar/2022 14:36:25] \"\u001b[37mPOST /_dash-update-component HTTP/1.1\u001b[0m\" 200 -\n",
      "220.135.2.3 - - [17/Mar/2022 14:36:28] \"\u001b[37mPOST /_dash-update-component HTTP/1.1\u001b[0m\" 200 -\n",
      "220.135.2.3 - - [17/Mar/2022 14:36:28] \"\u001b[37mPOST /_dash-update-component HTTP/1.1\u001b[0m\" 200 -\n"
     ]
    },
    {
     "name": "stdout",
     "output_type": "stream",
     "text": [
      "更新完成\n",
      "更新資料中...\n",
      "更新完成\n"
     ]
    },
    {
     "name": "stderr",
     "output_type": "stream",
     "text": [
      "220.135.2.3 - - [17/Mar/2022 14:36:31] \"\u001b[37mPOST /_dash-update-component HTTP/1.1\u001b[0m\" 200 -\n",
      "220.135.2.3 - - [17/Mar/2022 14:36:31] \"\u001b[37mPOST /_dash-update-component HTTP/1.1\u001b[0m\" 200 -\n"
     ]
    },
    {
     "name": "stdout",
     "output_type": "stream",
     "text": [
      "更新資料中...\n",
      "更新完成\n"
     ]
    },
    {
     "name": "stderr",
     "output_type": "stream",
     "text": [
      "220.135.2.3 - - [17/Mar/2022 14:36:34] \"\u001b[37mPOST /_dash-update-component HTTP/1.1\u001b[0m\" 200 -\n",
      "220.135.2.3 - - [17/Mar/2022 14:36:34] \"\u001b[37mPOST /_dash-update-component HTTP/1.1\u001b[0m\" 200 -\n"
     ]
    },
    {
     "name": "stdout",
     "output_type": "stream",
     "text": [
      "更新資料中...\n",
      "更新完成\n"
     ]
    },
    {
     "name": "stderr",
     "output_type": "stream",
     "text": [
      "220.135.2.3 - - [17/Mar/2022 14:36:37] \"\u001b[37mPOST /_dash-update-component HTTP/1.1\u001b[0m\" 200 -\n",
      "220.135.2.3 - - [17/Mar/2022 14:36:37] \"\u001b[37mPOST /_dash-update-component HTTP/1.1\u001b[0m\" 200 -\n"
     ]
    },
    {
     "name": "stdout",
     "output_type": "stream",
     "text": [
      "更新資料中...\n",
      "更新完成\n"
     ]
    },
    {
     "name": "stderr",
     "output_type": "stream",
     "text": [
      "220.135.2.3 - - [17/Mar/2022 14:36:40] \"\u001b[37mPOST /_dash-update-component HTTP/1.1\u001b[0m\" 200 -\n",
      "220.135.2.3 - - [17/Mar/2022 14:36:40] \"\u001b[37mPOST /_dash-update-component HTTP/1.1\u001b[0m\" 200 -\n"
     ]
    },
    {
     "name": "stdout",
     "output_type": "stream",
     "text": [
      "更新資料中...\n",
      "更新完成\n"
     ]
    },
    {
     "name": "stderr",
     "output_type": "stream",
     "text": [
      "220.135.2.3 - - [17/Mar/2022 14:36:43] \"\u001b[37mPOST /_dash-update-component HTTP/1.1\u001b[0m\" 200 -\n"
     ]
    },
    {
     "name": "stdout",
     "output_type": "stream",
     "text": [
      "更新資料中...\n",
      "更新完成\n"
     ]
    },
    {
     "name": "stderr",
     "output_type": "stream",
     "text": [
      "220.135.2.3 - - [17/Mar/2022 14:36:43] \"\u001b[37mPOST /_dash-update-component HTTP/1.1\u001b[0m\" 200 -\n",
      "220.135.2.3 - - [17/Mar/2022 14:36:46] \"\u001b[37mPOST /_dash-update-component HTTP/1.1\u001b[0m\" 200 -\n",
      "220.135.2.3 - - [17/Mar/2022 14:36:46] \"\u001b[37mPOST /_dash-update-component HTTP/1.1\u001b[0m\" 200 -\n"
     ]
    },
    {
     "name": "stdout",
     "output_type": "stream",
     "text": [
      "更新資料中...\n",
      "更新完成\n"
     ]
    },
    {
     "name": "stderr",
     "output_type": "stream",
     "text": [
      "220.135.2.3 - - [17/Mar/2022 14:36:49] \"\u001b[37mPOST /_dash-update-component HTTP/1.1\u001b[0m\" 200 -\n",
      "220.135.2.3 - - [17/Mar/2022 14:36:49] \"\u001b[37mPOST /_dash-update-component HTTP/1.1\u001b[0m\" 200 -\n"
     ]
    },
    {
     "name": "stdout",
     "output_type": "stream",
     "text": [
      "更新資料中...\n",
      "更新完成\n"
     ]
    },
    {
     "name": "stderr",
     "output_type": "stream",
     "text": [
      "220.135.2.3 - - [17/Mar/2022 14:36:52] \"\u001b[37mPOST /_dash-update-component HTTP/1.1\u001b[0m\" 200 -\n",
      "220.135.2.3 - - [17/Mar/2022 14:36:52] \"\u001b[37mPOST /_dash-update-component HTTP/1.1\u001b[0m\" 200 -\n"
     ]
    },
    {
     "name": "stdout",
     "output_type": "stream",
     "text": [
      "更新資料中...\n",
      "更新完成\n"
     ]
    },
    {
     "name": "stderr",
     "output_type": "stream",
     "text": [
      "220.135.2.3 - - [17/Mar/2022 14:36:55] \"\u001b[37mPOST /_dash-update-component HTTP/1.1\u001b[0m\" 200 -\n",
      "220.135.2.3 - - [17/Mar/2022 14:36:55] \"\u001b[37mPOST /_dash-update-component HTTP/1.1\u001b[0m\" 200 -\n"
     ]
    },
    {
     "name": "stdout",
     "output_type": "stream",
     "text": [
      "更新資料中...\n",
      "更新完成\n"
     ]
    },
    {
     "name": "stderr",
     "output_type": "stream",
     "text": [
      "220.135.2.3 - - [17/Mar/2022 14:36:58] \"\u001b[37mPOST /_dash-update-component HTTP/1.1\u001b[0m\" 200 -\n",
      "220.135.2.3 - - [17/Mar/2022 14:36:58] \"\u001b[37mPOST /_dash-update-component HTTP/1.1\u001b[0m\" 200 -\n"
     ]
    },
    {
     "name": "stdout",
     "output_type": "stream",
     "text": [
      "更新資料中...\n",
      "更新完成\n"
     ]
    },
    {
     "name": "stderr",
     "output_type": "stream",
     "text": [
      "220.135.2.3 - - [17/Mar/2022 14:37:01] \"\u001b[37mPOST /_dash-update-component HTTP/1.1\u001b[0m\" 200 -\n",
      "220.135.2.3 - - [17/Mar/2022 14:37:01] \"\u001b[37mPOST /_dash-update-component HTTP/1.1\u001b[0m\" 200 -\n"
     ]
    },
    {
     "name": "stdout",
     "output_type": "stream",
     "text": [
      "更新資料中...\n",
      "更新完成\n"
     ]
    },
    {
     "name": "stderr",
     "output_type": "stream",
     "text": [
      "220.135.2.3 - - [17/Mar/2022 14:37:04] \"\u001b[37mPOST /_dash-update-component HTTP/1.1\u001b[0m\" 200 -\n",
      "220.135.2.3 - - [17/Mar/2022 14:37:04] \"\u001b[37mPOST /_dash-update-component HTTP/1.1\u001b[0m\" 200 -\n"
     ]
    },
    {
     "name": "stdout",
     "output_type": "stream",
     "text": [
      "更新資料中...\n",
      "更新完成\n"
     ]
    },
    {
     "name": "stderr",
     "output_type": "stream",
     "text": [
      "220.135.2.3 - - [17/Mar/2022 14:37:07] \"\u001b[37mPOST /_dash-update-component HTTP/1.1\u001b[0m\" 200 -\n",
      "220.135.2.3 - - [17/Mar/2022 14:37:07] \"\u001b[37mPOST /_dash-update-component HTTP/1.1\u001b[0m\" 200 -\n"
     ]
    },
    {
     "name": "stdout",
     "output_type": "stream",
     "text": [
      "更新資料中...\n",
      "更新完成\n"
     ]
    },
    {
     "name": "stderr",
     "output_type": "stream",
     "text": [
      "220.135.2.3 - - [17/Mar/2022 14:37:10] \"\u001b[37mPOST /_dash-update-component HTTP/1.1\u001b[0m\" 200 -\n",
      "220.135.2.3 - - [17/Mar/2022 14:37:10] \"\u001b[37mPOST /_dash-update-component HTTP/1.1\u001b[0m\" 200 -\n"
     ]
    },
    {
     "name": "stdout",
     "output_type": "stream",
     "text": [
      "更新資料中...\n",
      "更新完成\n"
     ]
    },
    {
     "name": "stderr",
     "output_type": "stream",
     "text": [
      "220.135.2.3 - - [17/Mar/2022 14:37:13] \"\u001b[37mPOST /_dash-update-component HTTP/1.1\u001b[0m\" 200 -\n",
      "220.135.2.3 - - [17/Mar/2022 14:37:13] \"\u001b[37mPOST /_dash-update-component HTTP/1.1\u001b[0m\" 200 -\n"
     ]
    },
    {
     "name": "stdout",
     "output_type": "stream",
     "text": [
      "更新資料中...\n",
      "更新完成\n"
     ]
    },
    {
     "name": "stderr",
     "output_type": "stream",
     "text": [
      "220.135.2.3 - - [17/Mar/2022 14:37:16] \"\u001b[37mPOST /_dash-update-component HTTP/1.1\u001b[0m\" 200 -\n",
      "220.135.2.3 - - [17/Mar/2022 14:37:16] \"\u001b[37mPOST /_dash-update-component HTTP/1.1\u001b[0m\" 200 -\n"
     ]
    },
    {
     "name": "stdout",
     "output_type": "stream",
     "text": [
      "更新資料中...\n",
      "更新完成\n"
     ]
    },
    {
     "name": "stderr",
     "output_type": "stream",
     "text": [
      "220.135.2.3 - - [17/Mar/2022 14:37:19] \"\u001b[37mPOST /_dash-update-component HTTP/1.1\u001b[0m\" 200 -\n",
      "220.135.2.3 - - [17/Mar/2022 14:37:19] \"\u001b[37mPOST /_dash-update-component HTTP/1.1\u001b[0m\" 200 -\n"
     ]
    },
    {
     "name": "stdout",
     "output_type": "stream",
     "text": [
      "更新資料中...\n",
      "更新完成\n"
     ]
    },
    {
     "name": "stderr",
     "output_type": "stream",
     "text": [
      "220.135.2.3 - - [17/Mar/2022 14:37:22] \"\u001b[37mPOST /_dash-update-component HTTP/1.1\u001b[0m\" 200 -\n",
      "220.135.2.3 - - [17/Mar/2022 14:37:22] \"\u001b[37mPOST /_dash-update-component HTTP/1.1\u001b[0m\" 200 -\n"
     ]
    },
    {
     "name": "stdout",
     "output_type": "stream",
     "text": [
      "更新資料中...\n",
      "更新完成\n"
     ]
    },
    {
     "name": "stderr",
     "output_type": "stream",
     "text": [
      "220.135.2.3 - - [17/Mar/2022 14:37:25] \"\u001b[37mPOST /_dash-update-component HTTP/1.1\u001b[0m\" 200 -\n",
      "220.135.2.3 - - [17/Mar/2022 14:37:25] \"\u001b[37mPOST /_dash-update-component HTTP/1.1\u001b[0m\" 200 -\n"
     ]
    },
    {
     "name": "stdout",
     "output_type": "stream",
     "text": [
      "更新資料中...\n",
      "更新完成\n"
     ]
    },
    {
     "name": "stderr",
     "output_type": "stream",
     "text": [
      "220.135.2.3 - - [17/Mar/2022 14:37:28] \"\u001b[37mPOST /_dash-update-component HTTP/1.1\u001b[0m\" 200 -\n",
      "220.135.2.3 - - [17/Mar/2022 14:37:28] \"\u001b[37mPOST /_dash-update-component HTTP/1.1\u001b[0m\" 200 -\n"
     ]
    },
    {
     "name": "stdout",
     "output_type": "stream",
     "text": [
      "更新資料中...\n",
      "更新完成\n"
     ]
    },
    {
     "name": "stderr",
     "output_type": "stream",
     "text": [
      "220.135.2.3 - - [17/Mar/2022 14:37:31] \"\u001b[37mPOST /_dash-update-component HTTP/1.1\u001b[0m\" 200 -\n",
      "220.135.2.3 - - [17/Mar/2022 14:37:31] \"\u001b[37mPOST /_dash-update-component HTTP/1.1\u001b[0m\" 200 -\n"
     ]
    },
    {
     "name": "stdout",
     "output_type": "stream",
     "text": [
      "更新資料中...\n",
      "更新完成\n"
     ]
    },
    {
     "name": "stderr",
     "output_type": "stream",
     "text": [
      "220.135.2.3 - - [17/Mar/2022 14:37:34] \"\u001b[37mPOST /_dash-update-component HTTP/1.1\u001b[0m\" 200 -\n",
      "220.135.2.3 - - [17/Mar/2022 14:37:34] \"\u001b[37mPOST /_dash-update-component HTTP/1.1\u001b[0m\" 200 -\n"
     ]
    },
    {
     "name": "stdout",
     "output_type": "stream",
     "text": [
      "更新資料中...\n",
      "更新完成\n"
     ]
    },
    {
     "name": "stderr",
     "output_type": "stream",
     "text": [
      "220.135.2.3 - - [17/Mar/2022 14:37:37] \"\u001b[37mPOST /_dash-update-component HTTP/1.1\u001b[0m\" 200 -\n"
     ]
    },
    {
     "name": "stdout",
     "output_type": "stream",
     "text": [
      "更新資料中...\n"
     ]
    },
    {
     "name": "stderr",
     "output_type": "stream",
     "text": [
      "220.135.2.3 - - [17/Mar/2022 14:37:37] \"\u001b[37mPOST /_dash-update-component HTTP/1.1\u001b[0m\" 200 -\n"
     ]
    },
    {
     "name": "stdout",
     "output_type": "stream",
     "text": [
      "更新完成\n"
     ]
    },
    {
     "name": "stderr",
     "output_type": "stream",
     "text": [
      "220.135.2.3 - - [17/Mar/2022 14:37:40] \"\u001b[37mPOST /_dash-update-component HTTP/1.1\u001b[0m\" 200 -\n",
      "220.135.2.3 - - [17/Mar/2022 14:37:40] \"\u001b[37mPOST /_dash-update-component HTTP/1.1\u001b[0m\" 200 -\n"
     ]
    },
    {
     "name": "stdout",
     "output_type": "stream",
     "text": [
      "更新資料中...\n",
      "更新完成\n"
     ]
    },
    {
     "name": "stderr",
     "output_type": "stream",
     "text": [
      "220.135.2.3 - - [17/Mar/2022 14:37:43] \"\u001b[37mPOST /_dash-update-component HTTP/1.1\u001b[0m\" 200 -\n",
      "220.135.2.3 - - [17/Mar/2022 14:37:43] \"\u001b[37mPOST /_dash-update-component HTTP/1.1\u001b[0m\" 200 -\n"
     ]
    },
    {
     "name": "stdout",
     "output_type": "stream",
     "text": [
      "更新資料中...\n",
      "更新完成\n"
     ]
    },
    {
     "name": "stderr",
     "output_type": "stream",
     "text": [
      "220.135.2.3 - - [17/Mar/2022 14:37:46] \"\u001b[37mPOST /_dash-update-component HTTP/1.1\u001b[0m\" 200 -\n",
      "220.135.2.3 - - [17/Mar/2022 14:37:46] \"\u001b[37mPOST /_dash-update-component HTTP/1.1\u001b[0m\" 200 -\n"
     ]
    },
    {
     "name": "stdout",
     "output_type": "stream",
     "text": [
      "更新資料中...\n",
      "更新完成\n"
     ]
    },
    {
     "name": "stderr",
     "output_type": "stream",
     "text": [
      "220.135.2.3 - - [17/Mar/2022 14:37:49] \"\u001b[37mPOST /_dash-update-component HTTP/1.1\u001b[0m\" 200 -\n",
      "220.135.2.3 - - [17/Mar/2022 14:37:49] \"\u001b[37mPOST /_dash-update-component HTTP/1.1\u001b[0m\" 200 -\n"
     ]
    },
    {
     "name": "stdout",
     "output_type": "stream",
     "text": [
      "更新資料中...\n",
      "更新完成\n"
     ]
    },
    {
     "name": "stderr",
     "output_type": "stream",
     "text": [
      "220.135.2.3 - - [17/Mar/2022 14:37:52] \"\u001b[37mPOST /_dash-update-component HTTP/1.1\u001b[0m\" 200 -\n",
      "220.135.2.3 - - [17/Mar/2022 14:37:52] \"\u001b[37mPOST /_dash-update-component HTTP/1.1\u001b[0m\" 200 -\n"
     ]
    },
    {
     "name": "stdout",
     "output_type": "stream",
     "text": [
      "更新資料中...\n",
      "更新完成\n"
     ]
    },
    {
     "name": "stderr",
     "output_type": "stream",
     "text": [
      "220.135.2.3 - - [17/Mar/2022 14:37:55] \"\u001b[37mPOST /_dash-update-component HTTP/1.1\u001b[0m\" 200 -\n",
      "220.135.2.3 - - [17/Mar/2022 14:37:55] \"\u001b[37mPOST /_dash-update-component HTTP/1.1\u001b[0m\" 200 -\n"
     ]
    },
    {
     "name": "stdout",
     "output_type": "stream",
     "text": [
      "更新資料中...\n",
      "更新完成\n"
     ]
    },
    {
     "name": "stderr",
     "output_type": "stream",
     "text": [
      "220.135.2.3 - - [17/Mar/2022 14:37:58] \"\u001b[37mPOST /_dash-update-component HTTP/1.1\u001b[0m\" 200 -\n",
      "220.135.2.3 - - [17/Mar/2022 14:37:58] \"\u001b[37mPOST /_dash-update-component HTTP/1.1\u001b[0m\" 200 -\n"
     ]
    },
    {
     "name": "stdout",
     "output_type": "stream",
     "text": [
      "更新資料中...\n",
      "更新完成\n"
     ]
    },
    {
     "name": "stderr",
     "output_type": "stream",
     "text": [
      "220.135.2.3 - - [17/Mar/2022 14:38:01] \"\u001b[37mPOST /_dash-update-component HTTP/1.1\u001b[0m\" 200 -\n",
      "220.135.2.3 - - [17/Mar/2022 14:38:01] \"\u001b[37mPOST /_dash-update-component HTTP/1.1\u001b[0m\" 200 -\n"
     ]
    },
    {
     "name": "stdout",
     "output_type": "stream",
     "text": [
      "更新資料中...\n",
      "更新完成\n"
     ]
    },
    {
     "name": "stderr",
     "output_type": "stream",
     "text": [
      "220.135.2.3 - - [17/Mar/2022 14:38:04] \"\u001b[37mPOST /_dash-update-component HTTP/1.1\u001b[0m\" 200 -\n",
      "220.135.2.3 - - [17/Mar/2022 14:38:04] \"\u001b[37mPOST /_dash-update-component HTTP/1.1\u001b[0m\" 200 -\n"
     ]
    },
    {
     "name": "stdout",
     "output_type": "stream",
     "text": [
      "更新資料中...\n",
      "更新完成\n"
     ]
    },
    {
     "name": "stderr",
     "output_type": "stream",
     "text": [
      "220.135.2.3 - - [17/Mar/2022 14:38:07] \"\u001b[37mPOST /_dash-update-component HTTP/1.1\u001b[0m\" 200 -\n",
      "220.135.2.3 - - [17/Mar/2022 14:38:07] \"\u001b[37mPOST /_dash-update-component HTTP/1.1\u001b[0m\" 200 -\n"
     ]
    },
    {
     "name": "stdout",
     "output_type": "stream",
     "text": [
      "更新資料中...\n",
      "更新完成\n"
     ]
    },
    {
     "name": "stderr",
     "output_type": "stream",
     "text": [
      "220.135.2.3 - - [17/Mar/2022 14:38:10] \"\u001b[37mPOST /_dash-update-component HTTP/1.1\u001b[0m\" 200 -\n",
      "220.135.2.3 - - [17/Mar/2022 14:38:10] \"\u001b[37mPOST /_dash-update-component HTTP/1.1\u001b[0m\" 200 -\n"
     ]
    },
    {
     "name": "stdout",
     "output_type": "stream",
     "text": [
      "更新資料中...\n",
      "更新完成\n"
     ]
    },
    {
     "name": "stderr",
     "output_type": "stream",
     "text": [
      "220.135.2.3 - - [17/Mar/2022 14:38:13] \"\u001b[37mPOST /_dash-update-component HTTP/1.1\u001b[0m\" 200 -\n",
      "220.135.2.3 - - [17/Mar/2022 14:38:13] \"\u001b[37mPOST /_dash-update-component HTTP/1.1\u001b[0m\" 200 -\n"
     ]
    },
    {
     "name": "stdout",
     "output_type": "stream",
     "text": [
      "更新資料中...\n",
      "更新完成\n"
     ]
    },
    {
     "name": "stderr",
     "output_type": "stream",
     "text": [
      "220.135.2.3 - - [17/Mar/2022 14:38:16] \"\u001b[37mPOST /_dash-update-component HTTP/1.1\u001b[0m\" 200 -\n",
      "220.135.2.3 - - [17/Mar/2022 14:38:16] \"\u001b[37mPOST /_dash-update-component HTTP/1.1\u001b[0m\" 200 -\n"
     ]
    },
    {
     "name": "stdout",
     "output_type": "stream",
     "text": [
      "更新資料中...\n",
      "更新完成\n"
     ]
    },
    {
     "name": "stderr",
     "output_type": "stream",
     "text": [
      "220.135.2.3 - - [17/Mar/2022 14:38:19] \"\u001b[37mPOST /_dash-update-component HTTP/1.1\u001b[0m\" 200 -\n",
      "220.135.2.3 - - [17/Mar/2022 14:38:19] \"\u001b[37mPOST /_dash-update-component HTTP/1.1\u001b[0m\" 200 -\n"
     ]
    },
    {
     "name": "stdout",
     "output_type": "stream",
     "text": [
      "更新資料中...\n",
      "更新完成\n"
     ]
    },
    {
     "name": "stderr",
     "output_type": "stream",
     "text": [
      "220.135.2.3 - - [17/Mar/2022 14:38:22] \"\u001b[37mPOST /_dash-update-component HTTP/1.1\u001b[0m\" 200 -\n",
      "220.135.2.3 - - [17/Mar/2022 14:38:22] \"\u001b[37mPOST /_dash-update-component HTTP/1.1\u001b[0m\" 200 -\n"
     ]
    },
    {
     "name": "stdout",
     "output_type": "stream",
     "text": [
      "更新資料中...\n",
      "更新完成\n"
     ]
    },
    {
     "name": "stderr",
     "output_type": "stream",
     "text": [
      "220.135.2.3 - - [17/Mar/2022 14:38:25] \"\u001b[37mPOST /_dash-update-component HTTP/1.1\u001b[0m\" 200 -\n",
      "220.135.2.3 - - [17/Mar/2022 14:38:25] \"\u001b[37mPOST /_dash-update-component HTTP/1.1\u001b[0m\" 200 -\n"
     ]
    },
    {
     "name": "stdout",
     "output_type": "stream",
     "text": [
      "更新資料中...\n",
      "更新完成\n"
     ]
    },
    {
     "name": "stderr",
     "output_type": "stream",
     "text": [
      "220.135.2.3 - - [17/Mar/2022 14:38:28] \"\u001b[37mPOST /_dash-update-component HTTP/1.1\u001b[0m\" 200 -\n",
      "220.135.2.3 - - [17/Mar/2022 14:38:28] \"\u001b[37mPOST /_dash-update-component HTTP/1.1\u001b[0m\" 200 -\n"
     ]
    },
    {
     "name": "stdout",
     "output_type": "stream",
     "text": [
      "更新資料中...\n",
      "更新完成\n"
     ]
    },
    {
     "name": "stderr",
     "output_type": "stream",
     "text": [
      "220.135.2.3 - - [17/Mar/2022 14:38:31] \"\u001b[37mPOST /_dash-update-component HTTP/1.1\u001b[0m\" 200 -\n",
      "220.135.2.3 - - [17/Mar/2022 14:38:31] \"\u001b[37mPOST /_dash-update-component HTTP/1.1\u001b[0m\" 200 -\n"
     ]
    },
    {
     "name": "stdout",
     "output_type": "stream",
     "text": [
      "更新資料中...\n",
      "更新完成\n"
     ]
    },
    {
     "name": "stderr",
     "output_type": "stream",
     "text": [
      "220.135.2.3 - - [17/Mar/2022 14:38:34] \"\u001b[37mPOST /_dash-update-component HTTP/1.1\u001b[0m\" 200 -\n",
      "220.135.2.3 - - [17/Mar/2022 14:38:34] \"\u001b[37mPOST /_dash-update-component HTTP/1.1\u001b[0m\" 200 -\n"
     ]
    },
    {
     "name": "stdout",
     "output_type": "stream",
     "text": [
      "更新資料中...\n",
      "更新完成\n"
     ]
    }
   ],
   "source": [
    "## 比較 n 檔個股的深度擺盤_v2\n",
    "\n",
    "app = dash.Dash(__name__)\n",
    "\n",
    "app.layout = html.Div(['輸入股票代碼：',\n",
    "    dcc.Input(\n",
    "        id = \"input_symbol1\",\n",
    "        type=\"text\",\n",
    "        value = 2884),                    \n",
    "    \n",
    "    html.Div([\n",
    "        dcc.Graph(id = 'output_figure'),   \n",
    "        ]),\n",
    "    \n",
    "    html.Div([\n",
    "        dcc.Graph(id = 'output_figure2'),   \n",
    "        ]),\n",
    "    \n",
    "    html.Div(id='live-update-text'),\n",
    "    \n",
    "    dcc.Interval(id = 'fig-update',\n",
    "             interval = 3*1000, # 5*60s update\n",
    "             n_intervals = 0)\n",
    "    \n",
    "])\n",
    "\n",
    "now_time = datetime.datetime.now()\n",
    "\n",
    "@app.callback(Output('live-update-text', 'children'),\n",
    "              [dash.dependencies.Input('fig-update', 'n_intervals')])\n",
    "def update_metrics(test):\n",
    "    \n",
    "    style = {'padding': '5px', 'fontSize': '16px'}\n",
    "    updateTime = datetime.datetime.now().strftime('%Y-%m-%d %H:%M:%S')\n",
    "    \n",
    "    return [\n",
    "        html.Span(f'最新更新時間：{updateTime}', style = style),\n",
    "    ]\n",
    "\n",
    "\n",
    "@app.callback(\n",
    "    [Output(\"output_figure\", \"figure\"),\n",
    "     Output(\"output_figure2\", \"figure\"),],\n",
    "    [dash.dependencies.Input('fig-update', 'n_intervals'),\n",
    "     Input(\"input_symbol1\", \"value\"),]\n",
    "\n",
    ")\n",
    "\n",
    "\n",
    "def get_figure(n, symbol1):\n",
    " \n",
    "    print('更新資料中...')\n",
    "\n",
    "    # 繪製即時走勢+成交明細\n",
    "    \n",
    "    # 透過 chart API 繪製即時走勢圖\n",
    "    price_col = requests.get(f\"https://api.fugle.tw/realtime/v0.3/intraday/chart?symbolId={str(symbol1)}&apiToken={apiToken}\")\n",
    "    \n",
    "    \n",
    "    # 透過 dealts API 取得成交明細預計呈現的欄位\n",
    "    dealts_col = requests.get(f\"https://api.fugle.tw/realtime/v0.3/intraday/dealts?symbolId={str(symbol1)}&apiToken={apiToken}&limit=500\")\n",
    "    dealts_data = pd.DataFrame(dealts_col.json()['data']['dealts'])\n",
    "    dealts_data['at'] = list(map(lambda x : x[11:19],dealts_data['at']))\n",
    "    \n",
    "    # 取得預計使用的欄位\n",
    "    dealts_data = dealts_data[['at', 'bid', 'ask', 'price', 'volume']].rename(columns={'at':'時間','bid':'買進','ask':'賣出','price':'成交','volume':'量'})   \n",
    "\n",
    "\n",
    "    fig = make_subplots(rows=1, cols=2,    \n",
    "                        specs=[[{\"type\":\"scatter\"},{\"type\": \"table\"}],\n",
    "                        ],\n",
    "                        subplot_titles=('即時走勢圖','成交明細表',))\n",
    "\n",
    "    fig.add_trace(go.Scatter(x= list(map(lambda x: datetime.datetime.fromtimestamp(x/1000), price_col.json()['data']['chart']['t'])),\n",
    "                             y=price_col.json()['data']['chart']['c'],\n",
    "                             name='即時走勢',\n",
    "                             marker_color = '#4865E8',\n",
    "                             mode=\"lines\",\n",
    "                             textposition=\"top center\"),\n",
    "                             row = 1, col = 1) # fill down to xaxis\n",
    "\n",
    "    fig.add_trace(\n",
    "        go.Table(\n",
    "            header=dict(\n",
    "                values=dealts_data.columns.tolist(),\n",
    "                font=dict(size=10),\n",
    "                align=\"left\"\n",
    "            ),\n",
    "            cells=dict(\n",
    "                values=[dealts_data[k].tolist() for k in dealts_data.columns.tolist()],\n",
    "                align = \"left\")\n",
    "        ),\n",
    "        row=1, col=2\n",
    "    )    \n",
    "    \n",
    "    fig.update_xaxes(range = [datetime.datetime(now_time.year, now_time.month, now_time.day, 9,0,0),\n",
    "                              datetime.datetime(now_time.year, now_time.month, now_time.day, 13,30,0)],\n",
    "        row=1, col=1)\n",
    "    \n",
    "    fig.update_layout(\n",
    "                  uniformtext_minsize=8, uniformtext_mode='hide',\n",
    "                  height = 500,\n",
    "                  font = dict(size = 13))    \n",
    "    \n",
    "    \n",
    "    #繪製深度擺盤圖\n",
    "    fig2 = go.Figure()\n",
    "    \n",
    "    # 透過 quote API 取得最新五檔資訊進行深度擺盤繪製\n",
    "    quote_url = f\"https://api.fugle.tw/realtime/v0.3/intraday/quote?symbolId={str(symbol1)}&apiToken={apiToken}\"\n",
    "\n",
    "    quote_data = requests.get(quote_url)\n",
    "\n",
    "    # 委賣\n",
    "    asks_data = quote_data.json()['data']['quote']['order']['asks']\n",
    "\n",
    "    # 委買\n",
    "    bids_data = quote_data.json()['data']['quote']['order']['bids']\n",
    "    \n",
    "    new_asks_list, new_bids_list = transfer_cumVolume(asks_data, bids_data)\n",
    "    \n",
    "    bids_price = list(map(lambda x:x['price'],new_bids_list))\n",
    "    asks_price = list(map(lambda x:x['price'],new_asks_list))\n",
    "\n",
    "    price_range = (max(bids_price)-min(bids_price))/4\n",
    "\n",
    "\n",
    "    fig2.add_trace(go.Scatter(x=bids_price,\n",
    "                              y=list(map(lambda x:x['volume'], new_bids_list)), fill='tozeroy',name='委買',\n",
    "                              marker_color = '#4865E8',\n",
    "                              text= list(map(lambda x:str(round(x['amount'],2))+'萬元', new_bids_list)),\n",
    "                              mode=\"lines+markers+text\",\n",
    "                              textposition=\"top center\")) # fill down to xaxis\n",
    "    \n",
    "    fig2.add_trace(go.Scatter(x=asks_price,\n",
    "                              y=list(map(lambda x:x['volume'], new_asks_list)), fill='tozeroy',name='委賣',\n",
    "                              marker_color = '#FFA84A',\n",
    "                              text= list(map(lambda x:str(round(x['amount'],2))+'萬元', new_asks_list)),\n",
    "                              mode=\"lines+markers+text\",\n",
    "                              textposition=\"top center\")) # fill to trace0 y\n",
    "\n",
    "\n",
    "  \n",
    "    fig2.update_xaxes(range = [min(bids_price)-price_range, max(asks_price)+price_range])\n",
    "\n",
    "    \n",
    "    fig2.update_layout(title = f'{transfer_symbolName(symbol1, apiToken)} ({str(symbol1)}.tw) 深度擺盤圖',\n",
    "                  uniformtext_minsize=8, uniformtext_mode='hide',\n",
    "                  height = 500,\n",
    "                  font = dict(size = 13))\n",
    "    \n",
    "    print('更新完成')\n",
    "    \n",
    "    return [fig, fig2]\n",
    "\n",
    "\n",
    "if __name__ == '__main__':\n",
    "    app.run_server(host='0.0.0.0', port=8053)"
   ]
  },
  {
   "cell_type": "code",
   "execution_count": null,
   "metadata": {},
   "outputs": [],
   "source": []
  }
 ],
 "metadata": {
  "kernelspec": {
   "display_name": "Python 3",
   "language": "python",
   "name": "python3"
  },
  "language_info": {
   "codemirror_mode": {
    "name": "ipython",
    "version": 3
   },
   "file_extension": ".py",
   "mimetype": "text/x-python",
   "name": "python",
   "nbconvert_exporter": "python",
   "pygments_lexer": "ipython3",
   "version": "3.8.3"
  },
  "toc": {
   "base_numbering": 1,
   "nav_menu": {},
   "number_sections": true,
   "sideBar": true,
   "skip_h1_title": false,
   "title_cell": "Table of Contents",
   "title_sidebar": "Contents",
   "toc_cell": true,
   "toc_position": {},
   "toc_section_display": true,
   "toc_window_display": false
  }
 },
 "nbformat": 4,
 "nbformat_minor": 4
}
